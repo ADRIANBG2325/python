{
 "cells": [
  {
   "cell_type": "markdown",
   "id": "e108a1ff-00ff-468d-b7cb-2dcf0d66537b",
   "metadata": {},
   "source": [
    "# Programacion lineal"
   ]
  },
  {
   "cell_type": "code",
   "execution_count": 1,
   "id": "27943421-6f4f-4313-82d4-cee5b75031ee",
   "metadata": {},
   "outputs": [
    {
     "name": "stdout",
     "output_type": "stream",
     "text": [
      "Requirement already satisfied: pulp in c:\\users\\ad\\anaconda3\\envs\\proba\\lib\\site-packages (2.9.0)\n"
     ]
    }
   ],
   "source": [
    "!pip install pulp"
   ]
  },
  {
   "cell_type": "code",
   "execution_count": 2,
   "id": "1dd234c2-a731-48c1-96ab-d84223d5f710",
   "metadata": {},
   "outputs": [],
   "source": [
    "import pulp as p "
   ]
  },
  {
   "cell_type": "code",
   "execution_count": 3,
   "id": "63deb8dc-16be-4464-a96d-f5caea3364c4",
   "metadata": {},
   "outputs": [],
   "source": [
    "Lp_prob = p.LpProblem('Problem1', p.LpMaximize)"
   ]
  },
  {
   "cell_type": "markdown",
   "id": "35fd8876-242a-4436-a102-5f5b7db5ebe9",
   "metadata": {},
   "source": [
    "# Variables de desicion "
   ]
  },
  {
   "cell_type": "code",
   "execution_count": 4,
   "id": "e43f3573-a99e-41fd-ae3f-c713da94309e",
   "metadata": {},
   "outputs": [],
   "source": [
    "x1= p.LpVariable(\"x1\", lowBound = 0) #Crear una variable x1 >= 0 \n",
    "x2= p.LpVariable(\"x2\", lowBound = 0) #Crear una variable x2 >= 0 \n",
    "x3= p.LpVariable(\"x3\", lowBound = 0) #Crear una variable x3 >= 0 "
   ]
  },
  {
   "cell_type": "markdown",
   "id": "d26e9707-4f37-4cc6-abd8-4b73d99ba709",
   "metadata": {},
   "source": [
    "# Funcion Objetivo\n",
    "\n"
   ]
  },
  {
   "cell_type": "code",
   "execution_count": 5,
   "id": "e0b6206e-40e1-4a3b-b78f-a509ec35c215",
   "metadata": {},
   "outputs": [],
   "source": [
    "Lp_prob += 1600*x1 + 1300 * x2 + 600 * x3"
   ]
  },
  {
   "cell_type": "markdown",
   "id": "33d6424d-6f5a-42eb-8c4e-a19bde4b6ff9",
   "metadata": {},
   "source": [
    "# Restriciones a las que esta sujeto el problema \n"
   ]
  },
  {
   "cell_type": "code",
   "execution_count": 6,
   "id": "3551f78f-472f-4e74-bf06-1b8d62abcda4",
   "metadata": {},
   "outputs": [],
   "source": [
    "Lp_prob += 2*x1 + 1.5*x2 +x3<=20\n",
    "Lp_prob += 2*x1 +x2 +1.5 *x3 <=24\n",
    "Lp_prob += x1 + 2*x2 + 0.5*x3<=20"
   ]
  },
  {
   "cell_type": "code",
   "execution_count": 7,
   "id": "a13a4d74-70b5-49c6-91de-5b94d4a7d857",
   "metadata": {},
   "outputs": [
    {
     "name": "stdout",
     "output_type": "stream",
     "text": [
      "Problem1:\n",
      "MAXIMIZE\n",
      "1600*x1 + 1300*x2 + 600*x3 + 0\n",
      "SUBJECT TO\n",
      "_C1: 2 x1 + 1.5 x2 + x3 <= 20\n",
      "\n",
      "_C2: 2 x1 + x2 + 1.5 x3 <= 24\n",
      "\n",
      "_C3: x1 + 2 x2 + 0.5 x3 <= 20\n",
      "\n",
      "VARIABLES\n",
      "x1 Continuous\n",
      "x2 Continuous\n",
      "x3 Continuous\n",
      "\n"
     ]
    }
   ],
   "source": [
    "print (Lp_prob)"
   ]
  },
  {
   "cell_type": "markdown",
   "id": "65f02883-a0d8-4a62-a1e9-527af18028cd",
   "metadata": {},
   "source": [
    "# Resolviendo el problema de programacion lineal"
   ]
  },
  {
   "cell_type": "code",
   "execution_count": 8,
   "id": "2a77021e-83f4-43ab-a67f-c659e4587681",
   "metadata": {},
   "outputs": [
    {
     "name": "stdout",
     "output_type": "stream",
     "text": [
      "Optimal\n"
     ]
    }
   ],
   "source": [
    "status =Lp_prob.solve()\n",
    "print(p.LpStatus[status])\n"
   ]
  },
  {
   "cell_type": "markdown",
   "id": "2ada5323-7174-4305-a044-185b1f440e4e",
   "metadata": {},
   "source": [
    "# Solucion"
   ]
  },
  {
   "cell_type": "code",
   "execution_count": 9,
   "id": "ebfde8c7-d393-4d59-b4be-5d5569992642",
   "metadata": {},
   "outputs": [
    {
     "data": {
      "text/plain": [
       "4.0"
      ]
     },
     "execution_count": 9,
     "metadata": {},
     "output_type": "execute_result"
    }
   ],
   "source": [
    "p.value(x1)"
   ]
  },
  {
   "cell_type": "code",
   "execution_count": 10,
   "id": "2c680140-3949-40f1-b4d2-ca8f3cf00ecc",
   "metadata": {},
   "outputs": [
    {
     "data": {
      "text/plain": [
       "8.0"
      ]
     },
     "execution_count": 10,
     "metadata": {},
     "output_type": "execute_result"
    }
   ],
   "source": [
    "p.value(x2)\n"
   ]
  },
  {
   "cell_type": "code",
   "execution_count": 11,
   "id": "856670d1-9950-48e3-8ce4-809e889694b7",
   "metadata": {},
   "outputs": [
    {
     "data": {
      "text/plain": [
       "0.0"
      ]
     },
     "execution_count": 11,
     "metadata": {},
     "output_type": "execute_result"
    }
   ],
   "source": [
    "p.value(x3)"
   ]
  },
  {
   "cell_type": "code",
   "execution_count": 12,
   "id": "b4380d43-de6e-4417-b671-86bd0133b7e5",
   "metadata": {},
   "outputs": [
    {
     "ename": "NameError",
     "evalue": "name 'x4' is not defined",
     "output_type": "error",
     "traceback": [
      "\u001b[1;31m---------------------------------------------------------------------------\u001b[0m",
      "\u001b[1;31mNameError\u001b[0m                                 Traceback (most recent call last)",
      "Cell \u001b[1;32mIn[12], line 1\u001b[0m\n\u001b[1;32m----> 1\u001b[0m p\u001b[38;5;241m.\u001b[39mvalue(x4)\n",
      "\u001b[1;31mNameError\u001b[0m: name 'x4' is not defined"
     ]
    }
   ],
   "source": []
  },
  {
   "cell_type": "code",
   "execution_count": null,
   "id": "e3304ac8-7221-4815-b460-d8fc55acc409",
   "metadata": {},
   "outputs": [],
   "source": []
  },
  {
   "cell_type": "code",
   "execution_count": null,
   "id": "69620eb1-5fe1-485c-8f73-c867c0b515a9",
   "metadata": {},
   "outputs": [],
   "source": []
  }
 ],
 "metadata": {
  "kernelspec": {
   "display_name": "Python 3 (ipykernel)",
   "language": "python",
   "name": "python3"
  },
  "language_info": {
   "codemirror_mode": {
    "name": "ipython",
    "version": 3
   },
   "file_extension": ".py",
   "mimetype": "text/x-python",
   "name": "python",
   "nbconvert_exporter": "python",
   "pygments_lexer": "ipython3",
   "version": "3.11.9"
  }
 },
 "nbformat": 4,
 "nbformat_minor": 5
}
