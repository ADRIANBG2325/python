{
 "cells": [
  {
   "cell_type": "code",
   "execution_count": 1,
   "id": "fa83fd3e-bfcd-4046-af76-fef6b2dd3987",
   "metadata": {},
   "outputs": [
    {
     "name": "stdout",
     "output_type": "stream",
     "text": [
      "Requirement already satisfied: pulp in c:\\users\\ad\\anaconda3\\envs\\proba\\lib\\site-packages (2.9.0)\n"
     ]
    },
    {
     "name": "stderr",
     "output_type": "stream",
     "text": [
      "WARNING: Skipping C:\\Users\\AD\\anaconda3\\envs\\proba\\Lib\\site-packages\\numpy-1.26.4.dist-info due to invalid metadata entry 'name'\n",
      "WARNING: Skipping C:\\Users\\AD\\anaconda3\\envs\\proba\\Lib\\site-packages\\numpy-1.26.4.dist-info due to invalid metadata entry 'name'\n",
      "WARNING: Skipping C:\\Users\\AD\\anaconda3\\envs\\proba\\Lib\\site-packages\\numpy-1.26.4.dist-info due to invalid metadata entry 'name'\n",
      "WARNING: Skipping C:\\Users\\AD\\anaconda3\\envs\\proba\\Lib\\site-packages\\numpy-1.26.4.dist-info due to invalid metadata entry 'name'\n",
      "WARNING: Skipping C:\\Users\\AD\\anaconda3\\envs\\proba\\Lib\\site-packages\\numpy-1.26.4.dist-info due to invalid metadata entry 'name'\n",
      "WARNING: Skipping C:\\Users\\AD\\anaconda3\\envs\\proba\\Lib\\site-packages\\numpy-1.26.4.dist-info due to invalid metadata entry 'name'\n"
     ]
    }
   ],
   "source": [
    "!pip install pulp\n"
   ]
  },
  {
   "cell_type": "code",
   "execution_count": 2,
   "id": "56b2bc0d-fca4-4202-84a7-e6b3380e7de1",
   "metadata": {},
   "outputs": [
    {
     "name": "stdout",
     "output_type": "stream",
     "text": [
      "Requirement already satisfied: numpy in c:\\users\\ad\\anaconda3\\envs\\proba\\lib\\site-packages (2.1.3)\n"
     ]
    },
    {
     "name": "stderr",
     "output_type": "stream",
     "text": [
      "WARNING: Skipping C:\\Users\\AD\\anaconda3\\envs\\proba\\Lib\\site-packages\\numpy-1.26.4.dist-info due to invalid metadata entry 'name'\n",
      "WARNING: Skipping C:\\Users\\AD\\anaconda3\\envs\\proba\\Lib\\site-packages\\numpy-1.26.4.dist-info due to invalid metadata entry 'name'\n",
      "WARNING: Skipping C:\\Users\\AD\\anaconda3\\envs\\proba\\Lib\\site-packages\\numpy-1.26.4.dist-info due to invalid metadata entry 'name'\n",
      "WARNING: Skipping C:\\Users\\AD\\anaconda3\\envs\\proba\\Lib\\site-packages\\numpy-1.26.4.dist-info due to invalid metadata entry 'name'\n",
      "WARNING: Skipping C:\\Users\\AD\\anaconda3\\envs\\proba\\Lib\\site-packages\\numpy-1.26.4.dist-info due to invalid metadata entry 'name'\n",
      "WARNING: Skipping C:\\Users\\AD\\anaconda3\\envs\\proba\\Lib\\site-packages\\numpy-1.26.4.dist-info due to invalid metadata entry 'name'\n"
     ]
    }
   ],
   "source": [
    "!pip install numpy\n"
   ]
  },
  {
   "cell_type": "code",
   "execution_count": 3,
   "id": "9637b1e7-3c54-4962-b77e-8f940426e037",
   "metadata": {},
   "outputs": [
    {
     "name": "stdout",
     "output_type": "stream",
     "text": [
      "Collecting python-tsp\n",
      "  Using cached python_tsp-0.5.0-py3-none-any.whl.metadata (3.5 kB)\n",
      "Requirement already satisfied: numpy<3.0.0,>=2.0.0 in c:\\users\\ad\\anaconda3\\envs\\proba\\lib\\site-packages (from python-tsp) (2.1.3)\n",
      "Requirement already satisfied: requests<3.0.0,>=2.28.0 in c:\\users\\ad\\anaconda3\\envs\\proba\\lib\\site-packages (from python-tsp) (2.31.0)\n",
      "Collecting tsplib95<0.8.0,>=0.7.1 (from python-tsp)\n",
      "  Using cached tsplib95-0.7.1-py2.py3-none-any.whl.metadata (6.3 kB)\n",
      "Requirement already satisfied: charset-normalizer<4,>=2 in c:\\users\\ad\\anaconda3\\envs\\proba\\lib\\site-packages (from requests<3.0.0,>=2.28.0->python-tsp) (2.0.4)\n",
      "Requirement already satisfied: idna<4,>=2.5 in c:\\users\\ad\\anaconda3\\envs\\proba\\lib\\site-packages (from requests<3.0.0,>=2.28.0->python-tsp) (3.4)\n",
      "Requirement already satisfied: urllib3<3,>=1.21.1 in c:\\users\\ad\\anaconda3\\envs\\proba\\lib\\site-packages (from requests<3.0.0,>=2.28.0->python-tsp) (2.1.0)\n",
      "Requirement already satisfied: certifi>=2017.4.17 in c:\\users\\ad\\anaconda3\\envs\\proba\\lib\\site-packages (from requests<3.0.0,>=2.28.0->python-tsp) (2024.2.2)\n",
      "Collecting Click>=6.0 (from tsplib95<0.8.0,>=0.7.1->python-tsp)\n",
      "  Using cached click-8.1.7-py3-none-any.whl.metadata (3.0 kB)\n",
      "Collecting Deprecated~=1.2.9 (from tsplib95<0.8.0,>=0.7.1->python-tsp)\n",
      "  Using cached Deprecated-1.2.14-py2.py3-none-any.whl.metadata (5.4 kB)\n",
      "Collecting networkx~=2.1 (from tsplib95<0.8.0,>=0.7.1->python-tsp)\n",
      "  Using cached networkx-2.8.8-py3-none-any.whl.metadata (5.1 kB)\n",
      "Requirement already satisfied: tabulate~=0.8.7 in c:\\users\\ad\\anaconda3\\envs\\proba\\lib\\site-packages (from tsplib95<0.8.0,>=0.7.1->python-tsp) (0.8.10)\n",
      "Requirement already satisfied: colorama in c:\\users\\ad\\anaconda3\\envs\\proba\\lib\\site-packages (from Click>=6.0->tsplib95<0.8.0,>=0.7.1->python-tsp) (0.4.6)\n",
      "Requirement already satisfied: wrapt<2,>=1.10 in c:\\users\\ad\\anaconda3\\envs\\proba\\lib\\site-packages (from Deprecated~=1.2.9->tsplib95<0.8.0,>=0.7.1->python-tsp) (1.16.0)\n",
      "Using cached python_tsp-0.5.0-py3-none-any.whl (26 kB)\n",
      "Using cached tsplib95-0.7.1-py2.py3-none-any.whl (25 kB)\n",
      "Using cached click-8.1.7-py3-none-any.whl (97 kB)\n",
      "Using cached Deprecated-1.2.14-py2.py3-none-any.whl (9.6 kB)\n",
      "Using cached networkx-2.8.8-py3-none-any.whl (2.0 MB)\n",
      "Installing collected packages: networkx, Deprecated, Click, tsplib95, python-tsp\n",
      "Successfully installed Click-8.1.7 Deprecated-1.2.14 networkx-2.8.8 python-tsp-0.5.0 tsplib95-0.7.1\n"
     ]
    },
    {
     "name": "stderr",
     "output_type": "stream",
     "text": [
      "WARNING: Skipping C:\\Users\\AD\\anaconda3\\envs\\proba\\Lib\\site-packages\\numpy-1.26.4.dist-info due to invalid metadata entry 'name'\n",
      "WARNING: Skipping C:\\Users\\AD\\anaconda3\\envs\\proba\\Lib\\site-packages\\numpy-1.26.4.dist-info due to invalid metadata entry 'name'\n",
      "WARNING: Skipping C:\\Users\\AD\\anaconda3\\envs\\proba\\Lib\\site-packages\\numpy-1.26.4.dist-info due to invalid metadata entry 'name'\n",
      "WARNING: Skipping C:\\Users\\AD\\anaconda3\\envs\\proba\\Lib\\site-packages\\numpy-1.26.4.dist-info due to invalid metadata entry 'name'\n",
      "WARNING: Skipping C:\\Users\\AD\\anaconda3\\envs\\proba\\Lib\\site-packages\\numpy-1.26.4.dist-info due to invalid metadata entry 'name'\n",
      "WARNING: Skipping C:\\Users\\AD\\anaconda3\\envs\\proba\\Lib\\site-packages\\numpy-1.26.4.dist-info due to invalid metadata entry 'name'\n",
      "WARNING: Skipping C:\\Users\\AD\\anaconda3\\envs\\proba\\Lib\\site-packages\\numpy-1.26.4.dist-info due to invalid metadata entry 'name'\n",
      "WARNING: Skipping C:\\Users\\AD\\anaconda3\\envs\\proba\\Lib\\site-packages\\numpy-1.26.4.dist-info due to invalid metadata entry 'name'\n"
     ]
    }
   ],
   "source": [
    "!pip install python-tsp\n"
   ]
  },
  {
   "cell_type": "code",
   "execution_count": null,
   "id": "2a16b7c5-286b-4b08-8e09-41ec3cddc4e3",
   "metadata": {},
   "outputs": [],
   "source": []
  }
 ],
 "metadata": {
  "kernelspec": {
   "display_name": "Python 3 (ipykernel)",
   "language": "python",
   "name": "python3"
  },
  "language_info": {
   "codemirror_mode": {
    "name": "ipython",
    "version": 3
   },
   "file_extension": ".py",
   "mimetype": "text/x-python",
   "name": "python",
   "nbconvert_exporter": "python",
   "pygments_lexer": "ipython3",
   "version": "3.11.9"
  }
 },
 "nbformat": 4,
 "nbformat_minor": 5
}
