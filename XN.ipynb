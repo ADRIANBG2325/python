{
 "cells": [
  {
   "cell_type": "code",
   "execution_count": 34,
   "id": "c38c123f-f633-4724-86df-c1c981e164d6",
   "metadata": {},
   "outputs": [],
   "source": [
    "from pulp import *\n"
   ]
  },
  {
   "cell_type": "code",
   "execution_count": 35,
   "id": "f51390e1-e269-4b63-96bc-75bcd8c105c3",
   "metadata": {},
   "outputs": [],
   "source": [
    "prob=LpProblem(\"problem\",LpMaximize)"
   ]
  },
  {
   "cell_type": "code",
   "execution_count": 36,
   "id": "fd6ec066-c88c-417e-bdc1-edb4ce75ae87",
   "metadata": {},
   "outputs": [],
   "source": [
    "x = LpVariable.dicts(\"X\",range(9),lowBound=0)"
   ]
  },
  {
   "cell_type": "code",
   "execution_count": 37,
   "id": "59c9f1a0-2022-415a-896c-1069b7c9651e",
   "metadata": {},
   "outputs": [],
   "source": [
    "prob+=lpSum(x[i] for i in range(9))"
   ]
  },
  {
   "cell_type": "code",
   "execution_count": 38,
   "id": "ff642efc-aeb2-4dc2-b296-7441e519a3cc",
   "metadata": {},
   "outputs": [],
   "source": [
    "prob+=lpSum(x[i] for i in range(9))<=18\n",
    "prob+=x[0]>=2\n",
    "prob+=x[1]<=9"
   ]
  },
  {
   "cell_type": "code",
   "execution_count": 39,
   "id": "3879d76e-72c9-4b05-a6a0-ed6a1355c970",
   "metadata": {},
   "outputs": [
    {
     "data": {
      "text/plain": [
       "1"
      ]
     },
     "execution_count": 39,
     "metadata": {},
     "output_type": "execute_result"
    }
   ],
   "source": [
    "prob.solve()"
   ]
  },
  {
   "cell_type": "code",
   "execution_count": 40,
   "id": "e69c1e14-fbf6-4e49-a51f-3d6b6b539ae2",
   "metadata": {},
   "outputs": [
    {
     "name": "stdout",
     "output_type": "stream",
     "text": [
      "X_0 = 2.0\n",
      "X_1 = 0.0\n",
      "X_2 = 16.0\n",
      "X_3 = 0.0\n",
      "X_4 = 0.0\n",
      "X_5 = 0.0\n",
      "X_6 = 0.0\n",
      "X_7 = 0.0\n",
      "X_8 = 0.0\n"
     ]
    }
   ],
   "source": [
    "for v in prob.variables():print(v.name, \"=\", v.varValue)"
   ]
  },
  {
   "cell_type": "code",
   "execution_count": null,
   "id": "0685f802-7b10-46fb-94f1-0932fbdd1124",
   "metadata": {},
   "outputs": [],
   "source": []
  }
 ],
 "metadata": {
  "kernelspec": {
   "display_name": "Python 3 (ipykernel)",
   "language": "python",
   "name": "python3"
  },
  "language_info": {
   "codemirror_mode": {
    "name": "ipython",
    "version": 3
   },
   "file_extension": ".py",
   "mimetype": "text/x-python",
   "name": "python",
   "nbconvert_exporter": "python",
   "pygments_lexer": "ipython3",
   "version": "3.11.9"
  }
 },
 "nbformat": 4,
 "nbformat_minor": 5
}
