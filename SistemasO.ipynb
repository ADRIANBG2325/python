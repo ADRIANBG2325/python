{
 "cells": [
  {
   "cell_type": "code",
   "execution_count": 1,
   "id": "7d8dc31c-b132-4845-80e0-055738981c49",
   "metadata": {},
   "outputs": [],
   "source": [
    "from pulp import *"
   ]
  },
  {
   "cell_type": "code",
   "execution_count": 2,
   "id": "867da1a8-6825-46fc-b287-09d6b2b857bf",
   "metadata": {},
   "outputs": [],
   "source": [
    "modelo = LpProblem(\"Maximizar_Ganancias\", LpMaximize)"
   ]
  },
  {
   "cell_type": "code",
   "execution_count": 3,
   "id": "997db964-783f-496a-a190-c93661e4ca22",
   "metadata": {},
   "outputs": [],
   "source": [
    "x=LpVariable(\"prodcuto A\",lowBound=-float(\"inf\"))\n",
    "y=LpVariable(\"producto B\",lowBound=-float(\"inf\"))"
   ]
  },
  {
   "cell_type": "code",
   "execution_count": 4,
   "id": "7259f7f7-5f2b-4e64-9a0f-d4beffeb7b14",
   "metadata": {},
   "outputs": [],
   "source": [
    "modelo += 3*x + 2*y"
   ]
  },
  {
   "cell_type": "code",
   "execution_count": 5,
   "id": "379c2fd5-8116-4999-b2a3-f971bffc4de8",
   "metadata": {},
   "outputs": [],
   "source": [
    "modelo += x + y <= 5 \n",
    "modelo += 2*x + y <= 6 \n"
   ]
  },
  {
   "cell_type": "code",
   "execution_count": 6,
   "id": "01e6dbbe-1981-4fd4-8d98-88b51394b14d",
   "metadata": {},
   "outputs": [
    {
     "ename": "PulpSolverError",
     "evalue": "Pulp: Error while executing C:\\Users\\AD\\anaconda3\\envs\\proba\\Lib\\site-packages\\pulp\\solverdir\\cbc\\win\\64\\cbc.exe",
     "output_type": "error",
     "traceback": [
      "\u001b[1;31m---------------------------------------------------------------------------\u001b[0m",
      "\u001b[1;31mPulpSolverError\u001b[0m                           Traceback (most recent call last)",
      "Cell \u001b[1;32mIn[6], line 1\u001b[0m\n\u001b[1;32m----> 1\u001b[0m modelo\u001b[38;5;241m.\u001b[39msolve()\n",
      "File \u001b[1;32m~\\anaconda3\\envs\\proba\\Lib\\site-packages\\pulp\\pulp.py:1867\u001b[0m, in \u001b[0;36mLpProblem.solve\u001b[1;34m(self, solver, **kwargs)\u001b[0m\n\u001b[0;32m   1865\u001b[0m \u001b[38;5;66;03m# time it\u001b[39;00m\n\u001b[0;32m   1866\u001b[0m \u001b[38;5;28mself\u001b[39m\u001b[38;5;241m.\u001b[39mstartClock()\n\u001b[1;32m-> 1867\u001b[0m status \u001b[38;5;241m=\u001b[39m solver\u001b[38;5;241m.\u001b[39mactualSolve(\u001b[38;5;28mself\u001b[39m, \u001b[38;5;241m*\u001b[39m\u001b[38;5;241m*\u001b[39mkwargs)\n\u001b[0;32m   1868\u001b[0m \u001b[38;5;28mself\u001b[39m\u001b[38;5;241m.\u001b[39mstopClock()\n\u001b[0;32m   1869\u001b[0m \u001b[38;5;28mself\u001b[39m\u001b[38;5;241m.\u001b[39mrestoreObjective(wasNone, dummyVar)\n",
      "File \u001b[1;32m~\\anaconda3\\envs\\proba\\Lib\\site-packages\\pulp\\apis\\coin_api.py:112\u001b[0m, in \u001b[0;36mCOIN_CMD.actualSolve\u001b[1;34m(self, lp, **kwargs)\u001b[0m\n\u001b[0;32m    110\u001b[0m \u001b[38;5;28;01mdef\u001b[39;00m \u001b[38;5;21mactualSolve\u001b[39m(\u001b[38;5;28mself\u001b[39m, lp, \u001b[38;5;241m*\u001b[39m\u001b[38;5;241m*\u001b[39mkwargs):\n\u001b[0;32m    111\u001b[0m \u001b[38;5;250m    \u001b[39m\u001b[38;5;124;03m\"\"\"Solve a well formulated lp problem\"\"\"\u001b[39;00m\n\u001b[1;32m--> 112\u001b[0m     \u001b[38;5;28;01mreturn\u001b[39;00m \u001b[38;5;28mself\u001b[39m\u001b[38;5;241m.\u001b[39msolve_CBC(lp, \u001b[38;5;241m*\u001b[39m\u001b[38;5;241m*\u001b[39mkwargs)\n",
      "File \u001b[1;32m~\\anaconda3\\envs\\proba\\Lib\\site-packages\\pulp\\apis\\coin_api.py:190\u001b[0m, in \u001b[0;36mCOIN_CMD.solve_CBC\u001b[1;34m(self, lp, use_mps)\u001b[0m\n\u001b[0;32m    188\u001b[0m     \u001b[38;5;28;01mpass\u001b[39;00m\n\u001b[0;32m    189\u001b[0m \u001b[38;5;28;01mif\u001b[39;00m \u001b[38;5;129;01mnot\u001b[39;00m os\u001b[38;5;241m.\u001b[39mpath\u001b[38;5;241m.\u001b[39mexists(tmpSol):\n\u001b[1;32m--> 190\u001b[0m     \u001b[38;5;28;01mraise\u001b[39;00m PulpSolverError(\u001b[38;5;124m\"\u001b[39m\u001b[38;5;124mPulp: Error while executing \u001b[39m\u001b[38;5;124m\"\u001b[39m \u001b[38;5;241m+\u001b[39m \u001b[38;5;28mself\u001b[39m\u001b[38;5;241m.\u001b[39mpath)\n\u001b[0;32m    191\u001b[0m (\n\u001b[0;32m    192\u001b[0m     status,\n\u001b[0;32m    193\u001b[0m     values,\n\u001b[1;32m   (...)\u001b[0m\n\u001b[0;32m    197\u001b[0m     sol_status,\n\u001b[0;32m    198\u001b[0m ) \u001b[38;5;241m=\u001b[39m \u001b[38;5;28mself\u001b[39m\u001b[38;5;241m.\u001b[39mreadsol_MPS(tmpSol, lp, vs, variablesNames, constraintsNames)\n\u001b[0;32m    199\u001b[0m lp\u001b[38;5;241m.\u001b[39massignVarsVals(values)\n",
      "\u001b[1;31mPulpSolverError\u001b[0m: Pulp: Error while executing C:\\Users\\AD\\anaconda3\\envs\\proba\\Lib\\site-packages\\pulp\\solverdir\\cbc\\win\\64\\cbc.exe"
     ]
    }
   ],
   "source": [
    "modelo.solve()"
   ]
  },
  {
   "cell_type": "code",
   "execution_count": null,
   "id": "813c4aaa-1361-4566-bed4-05bd7da0875e",
   "metadata": {},
   "outputs": [],
   "source": [
    "print(\"Status:\",LpStatus[prob.status])\n",
    "for v in prob.variables():print(v.name, \"=\",v.varValue)\n",
    "print(\"ganancias maximas=:\",value(prob.objective))"
   ]
  },
  {
   "cell_type": "code",
   "execution_count": null,
   "id": "2d331856-9821-42c1-82da-4ae49fb558ce",
   "metadata": {},
   "outputs": [],
   "source": []
  }
 ],
 "metadata": {
  "kernelspec": {
   "display_name": "Python 3 (ipykernel)",
   "language": "python",
   "name": "python3"
  },
  "language_info": {
   "codemirror_mode": {
    "name": "ipython",
    "version": 3
   },
   "file_extension": ".py",
   "mimetype": "text/x-python",
   "name": "python",
   "nbconvert_exporter": "python",
   "pygments_lexer": "ipython3",
   "version": "3.11.9"
  }
 },
 "nbformat": 4,
 "nbformat_minor": 5
}
