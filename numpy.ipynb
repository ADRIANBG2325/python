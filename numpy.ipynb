{
 "cells": [
  {
   "cell_type": "markdown",
   "id": "5d69952a-9467-4184-a1cd-d71034bad7f2",
   "metadata": {},
   "source": [
    "# introduccion a numpy\n"
   ]
  },
  {
   "cell_type": "markdown",
   "id": "4a421074-8e3c-4d64-9273-cd37718e6ffe",
   "metadata": {},
   "source": [
    "[numpy](https://numpy.org/) es una libreria fundamental pata la computacion\n",
    "cientifica con python.\n",
    "* proporciona arrays N-dimencionales.\n",
    "* implementa funciones matematicas sofisticadas.\n",
    "* proporciona herramientas para integrar C/C++ Y Fortran.\n",
    "* proporciona mecanismos para facilitar la realizacion de tareas relacionadas con algebra linela o numeros aleatorios."
   ]
  },
  {
   "cell_type": "markdown",
   "id": "3176365f-f7d9-413b-8260-44a5c50bed79",
   "metadata": {},
   "source": [
    "# imports "
   ]
  },
  {
   "cell_type": "code",
   "execution_count": 1,
   "id": "a61ebf35-0566-447a-a95a-ebbd510d949c",
   "metadata": {},
   "outputs": [],
   "source": [
    "import numpy as np"
   ]
  },
  {
   "cell_type": "markdown",
   "id": "77380cd8-8ce0-48b0-b58e-593b12cf4d5b",
   "metadata": {},
   "source": [
    "## Arrays\n"
   ]
  },
  {
   "cell_type": "markdown",
   "id": "b2a53078-3a80-4938-aeea-8fbcf141e135",
   "metadata": {},
   "source": [
    "un **array** es una estructura de datos que consiste en una coleccion de elementos (valores o variables\n",
    "cada uno identificado por al menos un indice o clave. Un array se almacena de modo que la posicion de cada\n",
    "elemento se pueda calcular apartir de su tupla de indice mediante una formula matematica el tipo mas simple,\n",
    "es el array lineal tambien llamado array unidimencional ."
   ]
  },
  {
   "cell_type": "markdown",
   "id": "72928926-c37a-4ecf-94ba-574b8712fd63",
   "metadata": {},
   "source": [
    "En numpy:\n",
    "* Cada dimencion se denomina  **axis**.\n",
    "* El numero de dimenciones se denomina **rank**.\n",
    "* La lista de dimenciones con su correspondiente  longitud se denomina **shappe**.\n",
    "* El numero total de elementos que es la (multiplicacion de ela dimenciones), se denomina **size**"
   ]
  },
  {
   "cell_type": "code",
   "execution_count": 2,
   "id": "eb544730-5d2e-400f-860a-90de99d913a1",
   "metadata": {},
   "outputs": [
    {
     "name": "stdout",
     "output_type": "stream",
     "text": [
      "hola mundo\n",
      "ya soy pro\n"
     ]
    },
    {
     "data": {
      "text/plain": [
       "20"
      ]
     },
     "execution_count": 2,
     "metadata": {},
     "output_type": "execute_result"
    }
   ],
   "source": [
    "# hola mundo\n",
    "print (\"hola mundo\")\n",
    "print ('ya soy pro')\n",
    "a=20\n",
    "a\n",
    "\n"
   ]
  },
  {
   "cell_type": "code",
   "execution_count": 3,
   "id": "ec26d00c-b2f5-4b03-8059-948be121de40",
   "metadata": {},
   "outputs": [],
   "source": [
    "# Array cuyos valores son todos 0\n",
    "a = np.zeros((2,4))"
   ]
  },
  {
   "cell_type": "code",
   "execution_count": 4,
   "id": "dfa78a80-65f8-41ca-8670-4a679f5e0368",
   "metadata": {},
   "outputs": [
    {
     "data": {
      "text/plain": [
       "array([[0., 0., 0., 0.],\n",
       "       [0., 0., 0., 0.]])"
      ]
     },
     "execution_count": 4,
     "metadata": {},
     "output_type": "execute_result"
    }
   ],
   "source": [
    "a"
   ]
  },
  {
   "cell_type": "markdown",
   "id": "b35f746a-6098-4712-87ea-d229021b490c",
   "metadata": {},
   "source": [
    "_**a**_ es un array:\n",
    "\n",
    "* con dos **axis**, el primero de longitus 2 y segundo de longitud 4.\n",
    "* con un **rank** igual a 2.\n",
    "* con un **shape** igual a (2,4).\n",
    "* con un **size** igual a 8 "
   ]
  },
  {
   "cell_type": "code",
   "execution_count": 5,
   "id": "390e390f-995c-4858-bc2c-788c71cff4d0",
   "metadata": {},
   "outputs": [
    {
     "data": {
      "text/plain": [
       "(2, 4)"
      ]
     },
     "execution_count": 5,
     "metadata": {},
     "output_type": "execute_result"
    }
   ],
   "source": [
    "a.shape"
   ]
  },
  {
   "cell_type": "code",
   "execution_count": 6,
   "id": "d2a309b9-9ded-4aa3-ba59-615438cdca40",
   "metadata": {},
   "outputs": [
    {
     "data": {
      "text/plain": [
       "2"
      ]
     },
     "execution_count": 6,
     "metadata": {},
     "output_type": "execute_result"
    }
   ],
   "source": [
    "a.ndim"
   ]
  },
  {
   "cell_type": "code",
   "execution_count": 7,
   "id": "6a6d61d3-3cd8-44ce-90d2-dfb16d266a9d",
   "metadata": {},
   "outputs": [
    {
     "data": {
      "text/plain": [
       "8"
      ]
     },
     "execution_count": 7,
     "metadata": {},
     "output_type": "execute_result"
    }
   ],
   "source": [
    "a.size"
   ]
  },
  {
   "cell_type": "markdown",
   "id": "ec81e42b-3471-4d5e-b6be-9374658edf0b",
   "metadata": {},
   "source": [
    "## Creacion de arreglos.\n"
   ]
  },
  {
   "cell_type": "code",
   "execution_count": 8,
   "id": "2a87eb9e-6071-449b-b046-e19246d4948a",
   "metadata": {},
   "outputs": [
    {
     "data": {
      "text/plain": [
       "array([[[0., 0., 0., 0.],\n",
       "        [0., 0., 0., 0.],\n",
       "        [0., 0., 0., 0.]],\n",
       "\n",
       "       [[0., 0., 0., 0.],\n",
       "        [0., 0., 0., 0.],\n",
       "        [0., 0., 0., 0.]]])"
      ]
     },
     "execution_count": 8,
     "metadata": {},
     "output_type": "execute_result"
    }
   ],
   "source": [
    "# array cuyos valores son todos 0\n",
    "np.zeros((2,3,4))"
   ]
  },
  {
   "cell_type": "code",
   "execution_count": 9,
   "id": "04c01c93-90d1-4bf4-9641-21d0c7da7a9a",
   "metadata": {},
   "outputs": [
    {
     "data": {
      "text/plain": [
       "array([[[1., 1., 1., 1.],\n",
       "        [1., 1., 1., 1.],\n",
       "        [1., 1., 1., 1.]],\n",
       "\n",
       "       [[1., 1., 1., 1.],\n",
       "        [1., 1., 1., 1.],\n",
       "        [1., 1., 1., 1.]]])"
      ]
     },
     "execution_count": 9,
     "metadata": {},
     "output_type": "execute_result"
    }
   ],
   "source": [
    "# array cuyos valores son todos 1 \n",
    "np.ones((2,3,4))"
   ]
  },
  {
   "cell_type": "code",
   "execution_count": 10,
   "id": "96e27091-5f3f-4cf7-813e-545fd471d9dd",
   "metadata": {},
   "outputs": [
    {
     "data": {
      "text/plain": [
       "array([[[4, 4, 4, 4],\n",
       "        [4, 4, 4, 4],\n",
       "        [4, 4, 4, 4]],\n",
       "\n",
       "       [[4, 4, 4, 4],\n",
       "        [4, 4, 4, 4],\n",
       "        [4, 4, 4, 4]]])"
      ]
     },
     "execution_count": 10,
     "metadata": {},
     "output_type": "execute_result"
    }
   ],
   "source": [
    "# array cuyos valores son todos el valor indicado como segundo parametro de la funcion.\n",
    "np.full((2,3,4), 1*4)"
   ]
  },
  {
   "cell_type": "code",
   "execution_count": 11,
   "id": "fb2dcf1e-d943-49fa-a197-f3571670e4a0",
   "metadata": {},
   "outputs": [
    {
     "data": {
      "text/plain": [
       "array([[[ 7.35272185e-312,  7.36309550e-312,  1.94167799e-321,\n",
       "          5.99761600e-002, -5.40379590e+274,  3.72589259e-304,\n",
       "          1.30380511e-309,  6.52000718e+091,  7.80085664e-283],\n",
       "        [ 7.88487278e+014,  1.43394064e-272, -4.74703083e+231,\n",
       "          3.65396427e-304,  1.30397686e-309,  1.33390818e+241,\n",
       "          6.95660667e-244,  6.61551762e+125, -3.34838130e+231],\n",
       "        [ 1.19062596e+001,  3.64667705e-304,  2.08086362e-236,\n",
       "          9.55662492e-297,  1.24007705e-302, -3.94346691e+231,\n",
       "          1.30378082e-309,  9.25906886e-299,  1.27204766e+193]],\n",
       "\n",
       "       [[-3.34838130e+231,  3.65215637e-304,  5.39322349e+067,\n",
       "          1.47936117e+005,  1.39118078e-263,  3.64667705e-304,\n",
       "          2.08087884e-236,  3.30335742e-254,  1.24007705e-302],\n",
       "        [-5.51951122e+231,  1.30378082e-309,  9.25906900e-299,\n",
       "          4.59250141e+024, -3.34838130e+231,  3.65927671e-304,\n",
       "          9.25906879e-299,  1.24007705e-302,  3.64667705e-304],\n",
       "        [ 9.25906879e-299,  1.24007705e-302,  3.64667705e-304,\n",
       "          9.25906879e-299,  1.24007705e-302,  3.64667705e-304,\n",
       "          9.25906879e-299, -2.36903033e-308,  7.36331374e-312]]])"
      ]
     },
     "execution_count": 11,
     "metadata": {},
     "output_type": "execute_result"
    }
   ],
   "source": [
    "# el resultado de np.empty no es predecible.\n",
    "# inicializa los valores del array con lo que haya en memoria en ese momento.\n",
    "np.empty((2,3,9))"
   ]
  },
  {
   "cell_type": "code",
   "execution_count": 12,
   "id": "fe97cce3-08a9-4187-9ef8-2822a9e8143f",
   "metadata": {},
   "outputs": [
    {
     "data": {
      "text/plain": [
       "array([[1, 2, 3],\n",
       "       [4, 5, 6]])"
      ]
     },
     "execution_count": 12,
     "metadata": {},
     "output_type": "execute_result"
    }
   ],
   "source": [
    "# Incializacion del array utilizando un array de python\n",
    "b = np.array([[1, 2, 3], [4,5,6]])\n",
    "b"
   ]
  },
  {
   "cell_type": "code",
   "execution_count": 13,
   "id": "cec43091-cf27-4943-adc1-0f8bc6a8b7dc",
   "metadata": {},
   "outputs": [
    {
     "data": {
      "text/plain": [
       "(2, 3)"
      ]
     },
     "execution_count": 13,
     "metadata": {},
     "output_type": "execute_result"
    }
   ],
   "source": [
    "b.shape"
   ]
  },
  {
   "cell_type": "code",
   "execution_count": 14,
   "id": "ba2dcff1-83a1-497b-a827-288bf3b810ae",
   "metadata": {},
   "outputs": [
    {
     "name": "stdout",
     "output_type": "stream",
     "text": [
      "[0.         0.66666667 1.33333333 2.         2.66666667 3.33333333\n",
      " 4.         4.66666667 5.33333333 6.        ]\n"
     ]
    }
   ],
   "source": [
    "\n",
    "#creacion de un arreglo utilizando una funcion basada en rangos\n",
    "#(minimo, maximo, numero de elementos del arreglo)\n",
    "print (np.linspace(0,6,10))"
   ]
  },
  {
   "cell_type": "code",
   "execution_count": 15,
   "id": "7f7c8572-ada8-4bd2-9bf2-4e0998638b87",
   "metadata": {},
   "outputs": [
    {
     "data": {
      "text/plain": [
       "array([[0.58257572, 0.08807673, 0.78152961, 0.22089596],\n",
       "       [0.5103773 , 0.85270898, 0.46169775, 0.43439851]])"
      ]
     },
     "execution_count": 15,
     "metadata": {},
     "output_type": "execute_result"
    }
   ],
   "source": [
    "#inicializacion del arreglo con valores aleatorios\n",
    "np.random.rand(2,4)"
   ]
  },
  {
   "cell_type": "code",
   "execution_count": 16,
   "id": "d01532b6-9921-40b4-9f66-7adce952a6be",
   "metadata": {},
   "outputs": [
    {
     "data": {
      "text/plain": [
       "array([[ 0.72792295, -0.51271711, -1.1052433 , -0.44701347],\n",
       "       [-0.64206465, -0.25074548,  0.23862111,  0.40681965]])"
      ]
     },
     "execution_count": 16,
     "metadata": {},
     "output_type": "execute_result"
    }
   ],
   "source": [
    "#inicializar un arreglo con valores aleatorios conforme a una distribucion normal\n",
    "np.random.randn(2,4)"
   ]
  },
  {
   "cell_type": "code",
   "execution_count": 17,
   "id": "3b41c083-657a-451d-8424-652d6f731c8e",
   "metadata": {},
   "outputs": [
    {
     "name": "stderr",
     "output_type": "stream",
     "text": [
      "Matplotlib is building the font cache; this may take a moment.\n"
     ]
    },
    {
     "data": {
      "image/png": "[encoded data removed]",
      "text/plain": [
       "<Figure size 640x480 with 1 Axes>"
      ]
     },
     "metadata": {},
     "output_type": "display_data"
    }
   ],
   "source": [
    "%matplotlib inline\n",
    "import matplotlib.pyplot as plt\n",
    "\n",
    "c=np.random.randn(1000000)\n",
    "\n",
    "plt.hist(c, bins=200)\n",
    "plt.show()"
   ]
  },
  {
   "cell_type": "code",
   "execution_count": 18,
   "id": "117d06f6-d897-4a52-9f94-8fe6884475a7",
   "metadata": {},
   "outputs": [
    {
     "data": {
      "text/plain": [
       "array([[ 0.,  2.,  4.,  6.,  8.],\n",
       "       [ 1.,  3.,  5.,  7.,  9.],\n",
       "       [ 2.,  4.,  6.,  8., 10.]])"
      ]
     },
     "execution_count": 18,
     "metadata": {},
     "output_type": "execute_result"
    }
   ],
   "source": [
    "#inicializar un arreglo utilizando una funcion personalizada\n",
    "def func(x, y):\n",
    "     return x + 2* y \n",
    "np.fromfunction(func, (3,5))"
   ]
  },
  {
   "cell_type": "markdown",
   "id": "1d21d234-430f-481c-93de-49ba9d179bd6",
   "metadata": {},
   "source": [
    "## acceso a los elementos de un arreglo"
   ]
  },
  {
   "cell_type": "markdown",
   "id": "77a81409-49fb-45a3-a67e-dd906e45a6c3",
   "metadata": {},
   "source": [
    "### arreglo unidimencional"
   ]
  },
  {
   "cell_type": "code",
   "execution_count": 19,
   "id": "ec23d10d-1400-49fb-8bf6-9d19aee1050e",
   "metadata": {},
   "outputs": [
    {
     "name": "stdout",
     "output_type": "stream",
     "text": [
      "Shape: (6,)\n",
      "Array_uni [ 1  3  5  7  9 11]\n"
     ]
    }
   ],
   "source": [
    "# creacio de una array unidimencional\n",
    "array_uni = np.array([1,3,5,7,9,11])\n",
    "print (\"Shape:\", array_uni.shape)\n",
    "print (\"Array_uni\",array_uni)"
   ]
  },
  {
   "cell_type": "code",
   "execution_count": 20,
   "id": "8aeb28bf-bd36-4a24-b303-97b74206996b",
   "metadata": {},
   "outputs": [
    {
     "data": {
      "text/plain": [
       "9"
      ]
     },
     "execution_count": 20,
     "metadata": {},
     "output_type": "execute_result"
    }
   ],
   "source": [
    "# accediendo al quinto elemento del arrglo.\n",
    "array_uni[4]"
   ]
  },
  {
   "cell_type": "code",
   "execution_count": 21,
   "id": "902e1c22-c816-4405-8cd3-b473a600112e",
   "metadata": {},
   "outputs": [
    {
     "data": {
      "text/plain": [
       "array([5, 7])"
      ]
     },
     "execution_count": 21,
     "metadata": {},
     "output_type": "execute_result"
    }
   ],
   "source": [
    "# accediendo altercer y cuarto elemento de array\n",
    "array_uni[2:4]"
   ]
  },
  {
   "cell_type": "code",
   "execution_count": 22,
   "id": "cf34ea7b-478d-4e6f-932d-34e7423f8d5d",
   "metadata": {},
   "outputs": [
    {
     "data": {
      "text/plain": [
       "array([1, 5, 9])"
      ]
     },
     "execution_count": 22,
     "metadata": {},
     "output_type": "execute_result"
    }
   ],
   "source": [
    "# accediendo a los elementos 0,3 y 5 de arreglo.\n",
    "array_uni[0::2]"
   ]
  },
  {
   "cell_type": "markdown",
   "id": "dce4f7fc-3c72-4c7d-a830-5297bdcbc880",
   "metadata": {},
   "source": [
    "## arreglo multidimencional"
   ]
  },
  {
   "cell_type": "code",
   "execution_count": 23,
   "id": "fd4c02ed-9391-4c64-9a63-7fc58990b76f",
   "metadata": {},
   "outputs": [
    {
     "name": "stdout",
     "output_type": "stream",
     "text": [
      "Shape: (2, 4)\n",
      "Array_multi:\n",
      " [[1 2 3 4]\n",
      " [5 6 7 8]]\n"
     ]
    }
   ],
   "source": [
    "# creacion de u arreglo multidimencional\n",
    "array_multi =np.array([[1,2,3,4], [5,6,7,8]])\n",
    "print(\"Shape:\", array_multi.shape)\n",
    "print(\"Array_multi:\\n\", array_multi)"
   ]
  },
  {
   "cell_type": "code",
   "execution_count": 24,
   "id": "1ca63259-e9a9-4921-8639-83705502e35a",
   "metadata": {},
   "outputs": [
    {
     "data": {
      "text/plain": [
       "4"
      ]
     },
     "execution_count": 24,
     "metadata": {},
     "output_type": "execute_result"
    }
   ],
   "source": [
    "# Acceder al cuarto elemento del arreglo.\n",
    "array_multi[0,3]\n"
   ]
  },
  {
   "cell_type": "code",
   "execution_count": 25,
   "id": "971e18b8-0118-450e-ac64-4e2f821fbdc8",
   "metadata": {},
   "outputs": [
    {
     "data": {
      "text/plain": [
       "array([5, 6, 7, 8])"
      ]
     },
     "execution_count": 25,
     "metadata": {},
     "output_type": "execute_result"
    }
   ],
   "source": [
    "# Accediendo a la segunda fila del arreglo.\n",
    "\n",
    "array_multi[1,:]"
   ]
  },
  {
   "cell_type": "code",
   "execution_count": 26,
   "id": "3d15bb84-3c3a-456b-aa45-531b8df0a165",
   "metadata": {},
   "outputs": [
    {
     "data": {
      "text/plain": [
       "array([3, 7])"
      ]
     },
     "execution_count": 26,
     "metadata": {},
     "output_type": "execute_result"
    }
   ],
   "source": [
    "# Accediendo al tercer elemento de las dos primeras filas del arreglo.\n",
    "array_multi[0:2, 2]"
   ]
  },
  {
   "cell_type": "markdown",
   "id": "f2154aec-09f9-4c4d-bc38-372726bf18c9",
   "metadata": {},
   "source": [
    "## Modificacion de un arreglo."
   ]
  },
  {
   "cell_type": "code",
   "execution_count": 27,
   "id": "ac5b0f85-8fad-4256-a4dd-0543a1b61be3",
   "metadata": {},
   "outputs": [
    {
     "name": "stdout",
     "output_type": "stream",
     "text": [
      "Shape:  (28,)\n",
      "Array 1:  [ 0  1  2  3  4  5  6  7  8  9 10 11 12 13 14 15 16 17 18 19 20 21 22 23\n",
      " 24 25 26 27]\n"
     ]
    }
   ],
   "source": [
    "# Crear u arrglo unidimencional inicializandolo con el rango de elemnetos que VA DEL 0 AL 27.\n",
    "array1=np.arange(28)\n",
    "print (\"Shape: \", array1.shape)\n",
    "print(\"Array 1: \", array1)"
   ]
  },
  {
   "cell_type": "code",
   "execution_count": 28,
   "id": "c6a5b7a2-d3ca-490e-88d8-6a8e45228997",
   "metadata": {},
   "outputs": [
    {
     "name": "stdout",
     "output_type": "stream",
     "text": [
      "Shape:  (7, 4)\n",
      "Array 1:\n",
      "  [[ 0  1  2  3]\n",
      " [ 4  5  6  7]\n",
      " [ 8  9 10 11]\n",
      " [12 13 14 15]\n",
      " [16 17 18 19]\n",
      " [20 21 22 23]\n",
      " [24 25 26 27]]\n"
     ]
    }
   ],
   "source": [
    "# Cambiar las dimenciones del arreglo y sus longitudes.\n",
    "array1.shape = (7,4)\n",
    "print (\"Shape: \", array1.shape)\n",
    "print(\"Array 1:\\n \", array1)"
   ]
  },
  {
   "cell_type": "code",
   "execution_count": 29,
   "id": "2d79f0f8-f703-4579-af2a-67b65d46252a",
   "metadata": {},
   "outputs": [
    {
     "name": "stdout",
     "output_type": "stream",
     "text": [
      "\n",
      " [[ 0  1  2  3]\n",
      " [ 4  5  6  7]\n",
      " [ 8  9 10 11]\n",
      " [12 13 14 15]\n",
      " [16 17 18 19]\n",
      " [20 21 22 23]\n",
      " [24 25 26 27]]\n",
      "Shape:  (4, 7)\n",
      "Array 2:\n",
      "  [[ 0  1  2  3  4  5  6]\n",
      " [ 7  8  9 10 11 12 13]\n",
      " [14 15 16 17 18 19 20]\n",
      " [21 22 23 24 25 26 27]]\n"
     ]
    }
   ],
   "source": [
    "# En el ejemplo anterior devuelve un nuevo array que apunta a los mismos datos.\n",
    "# Importante modificaciones en un array, modifican el otro array.\n",
    "\n",
    "print (\"\\n\",array1)\n",
    "array2 = array1.reshape(4,7)\n",
    "print(\"Shape: \", array2.shape)\n",
    "print(\"Array 2:\\n \", array2)"
   ]
  },
  {
   "cell_type": "code",
   "execution_count": 30,
   "id": "1e5de02d-1aea-4f78-b6a4-fa576cc3c866",
   "metadata": {},
   "outputs": [
    {
     "name": "stdout",
     "output_type": "stream",
     "text": [
      "Array2: \n",
      " [[ 0  1  2 20  4  5  6]\n",
      " [ 7  8  9 10 11 12 13]\n",
      " [14 15 16 17 18 19 20]\n",
      " [21 22 23 24 25 26 27]]\n"
     ]
    }
   ],
   "source": [
    "# Modificacion delnuevo Array devuelto.\n",
    "array2[0,3]= 20\n",
    "print(\"Array2: \\n\", array2)"
   ]
  },
  {
   "cell_type": "code",
   "execution_count": 31,
   "id": "8e5b1d8d-166f-412b-8150-8404b1f2f380",
   "metadata": {},
   "outputs": [
    {
     "name": "stdout",
     "output_type": "stream",
     "text": [
      "Array1:\n",
      " [[ 0  1  2 20]\n",
      " [ 4  5  6  7]\n",
      " [ 8  9 10 11]\n",
      " [12 13 14 15]\n",
      " [16 17 18 19]\n",
      " [20 21 22 23]\n",
      " [24 25 26 27]]\n"
     ]
    }
   ],
   "source": [
    "print(\"Array1:\\n\", array1)"
   ]
  },
  {
   "cell_type": "code",
   "execution_count": 32,
   "id": "29d97a55-fb45-4449-9688-556e9829157b",
   "metadata": {},
   "outputs": [
    {
     "name": "stdout",
     "output_type": "stream",
     "text": [
      "Array1: [ 0  1  2 20  4  5  6  7  8  9 10 11 12 13 14 15 16 17 18 19 20 21 22 23\n",
      " 24 25 26 27]\n"
     ]
    }
   ],
   "source": [
    "# Devuelve el arreglo, devolviendo un nuevo arreglo de una sola dimencion.\n",
    "# Iimportante: El nuevo array apunta a los mismos datos.\n",
    "print(\"Array1:\", array1.ravel())"
   ]
  },
  {
   "cell_type": "markdown",
   "id": "3a4d6477-592e-490d-9e30-4978d1273980",
   "metadata": {},
   "source": [
    "## Operaciones aritmeticas con arreglos "
   ]
  },
  {
   "cell_type": "code",
   "execution_count": 33,
   "id": "35e8bfcd-8db9-434c-a5b9-0d700efe4799",
   "metadata": {},
   "outputs": [
    {
     "name": "stdout",
     "output_type": "stream",
     "text": [
      "Array1: [ 2  4  6  8 10 12 14 16]\n",
      "Array2: [0 1 2 3 4 5 6 7]\n"
     ]
    }
   ],
   "source": [
    "# Crear un arreglo unidemendional.\n",
    "array1 =np.arange (2, 18 ,2)\n",
    "array2 =np.arange (8)\n",
    "print(\"Array1:\", array1)\n",
    "print(\"Array2:\", array2)"
   ]
  },
  {
   "cell_type": "code",
   "execution_count": 34,
   "id": "17176983-b9d7-491e-8e92-127b7df43714",
   "metadata": {},
   "outputs": [
    {
     "name": "stdout",
     "output_type": "stream",
     "text": [
      "[ 2  5  8 11 14 17 20 23]\n"
     ]
    }
   ],
   "source": [
    "# suma\n",
    "print (array1 +array2)"
   ]
  },
  {
   "cell_type": "code",
   "execution_count": 35,
   "id": "1aed1510-3eb0-4903-9444-72509dbceb39",
   "metadata": {},
   "outputs": [
    {
     "name": "stdout",
     "output_type": "stream",
     "text": [
      "[2 3 4 5 6 7 8 9]\n"
     ]
    }
   ],
   "source": [
    "# Resta\n",
    "print (array1 -array2)"
   ]
  },
  {
   "cell_type": "code",
   "execution_count": 36,
   "id": "478c8f94-93b8-4f1c-af14-7531c02823d4",
   "metadata": {},
   "outputs": [
    {
     "name": "stdout",
     "output_type": "stream",
     "text": [
      "[  0   4  12  24  40  60  84 112]\n"
     ]
    }
   ],
   "source": [
    "# multiplicacion\n",
    "# Nota:No es una multiplicacion de matrices\n",
    "print (array1 *array2)"
   ]
  },
  {
   "cell_type": "markdown",
   "id": "99347f22-d62e-4c53-a292-9be1c9d3bc8c",
   "metadata": {},
   "source": [
    "### Broadcasting\n",
    "si se aplican operaciones aritmetcas sobre array que no tienen la misma forma\n",
    "**shape**\n",
    "Numpy aplica una propiedad que se denomina Broadcasting"
   ]
  },
  {
   "cell_type": "code",
   "execution_count": 37,
   "id": "3f695085-f2ec-4907-b67a-ae9df8c5ac61",
   "metadata": {},
   "outputs": [
    {
     "name": "stdout",
     "output_type": "stream",
     "text": [
      "Shape Array1: (5,)\n",
      "Array 1:  [0 1 2 3 4]\n",
      "\n",
      "Shape Array2: (1,)\n",
      "Array 2:  [3]\n"
     ]
    }
   ],
   "source": [
    "# Creacion de dos arreglos unidimencionales.\n",
    "array1 =np.arange(5)\n",
    "array2=np.array([3])\n",
    "print (\"Shape Array1:\", array1.shape)\n",
    "print (\"Array 1: \", array1)\n",
    "print(\"\")\n",
    "print (\"Shape Array2:\", array2.shape)\n",
    "print (\"Array 2: \", array2)\n"
   ]
  },
  {
   "cell_type": "code",
   "execution_count": 38,
   "id": "1ff633e6-b88a-4b9b-9238-9067793478d8",
   "metadata": {},
   "outputs": [
    {
     "data": {
      "text/plain": [
       "array([3, 4, 5, 6, 7])"
      ]
     },
     "execution_count": 38,
     "metadata": {},
     "output_type": "execute_result"
    }
   ],
   "source": [
    "# suma de ambos arreglos \n",
    "array1+ array2"
   ]
  },
  {
   "cell_type": "markdown",
   "id": "d4e6b422-1e19-459b-a2a2-d319c0196aff",
   "metadata": {},
   "source": [
    "### FUNCIONES ESTADISTICAS SOBRE ARRAYS."
   ]
  },
  {
   "cell_type": "code",
   "execution_count": 39,
   "id": "379673ed-d359-4311-9e79-c0c14e550694",
   "metadata": {},
   "outputs": [
    {
     "name": "stdout",
     "output_type": "stream",
     "text": [
      "ARRAY 1:  [ 1  3  5  7  9 11 13 15 17 19]\n"
     ]
    }
   ],
   "source": [
    "# Creacion de un arreglo unidimencional.\n",
    "array1= np.arange(1, 20, 2)\n",
    "print(\"ARRAY 1: \", array1)"
   ]
  },
  {
   "cell_type": "code",
   "execution_count": 40,
   "id": "da026ee5-4a41-445e-b65a-1e6a15b9d5b1",
   "metadata": {},
   "outputs": [
    {
     "data": {
      "text/plain": [
       "10.0"
      ]
     },
     "execution_count": 40,
     "metadata": {},
     "output_type": "execute_result"
    }
   ],
   "source": [
    "# Media de los elementos del array.\n",
    "array1.mean()"
   ]
  },
  {
   "cell_type": "code",
   "execution_count": 41,
   "id": "4f04ceaf-5560-454a-b7db-080471b233db",
   "metadata": {},
   "outputs": [
    {
     "data": {
      "text/plain": [
       "100"
      ]
     },
     "execution_count": 41,
     "metadata": {},
     "output_type": "execute_result"
    }
   ],
   "source": [
    "# Suma de los ementos del arreglo.\n",
    "array1.sum()"
   ]
  },
  {
   "cell_type": "markdown",
   "id": "6dfec792-c57d-46fc-b875-efa137b31bba",
   "metadata": {},
   "source": [
    "#### Funciones universales proporcionadas por Numpy: **ufunc**"
   ]
  },
  {
   "cell_type": "code",
   "execution_count": 42,
   "id": "9b34e5f8-c6af-4cee-a610-cf1d2807ef34",
   "metadata": {},
   "outputs": [
    {
     "data": {
      "text/plain": [
       "array([  1,   9,  25,  49,  81, 121, 169, 225, 289, 361])"
      ]
     },
     "execution_count": 42,
     "metadata": {},
     "output_type": "execute_result"
    }
   ],
   "source": [
    "# cuadrado de los elementos del arreglo\n",
    "np.square(array1)"
   ]
  },
  {
   "cell_type": "code",
   "execution_count": 43,
   "id": "d6ac6b97-3e25-4a20-bc17-969fd206232b",
   "metadata": {},
   "outputs": [
    {
     "data": {
      "text/plain": [
       "array([1.        , 1.73205081, 2.23606798, 2.64575131, 3.        ,\n",
       "       3.31662479, 3.60555128, 3.87298335, 4.12310563, 4.35889894])"
      ]
     },
     "execution_count": 43,
     "metadata": {},
     "output_type": "execute_result"
    }
   ],
   "source": [
    "# Raiz cuadrada de los elemnetos del array\n",
    "np.sqrt(array1)"
   ]
  },
  {
   "cell_type": "code",
   "execution_count": 44,
   "id": "d3ad44ff-9143-4713-95b4-eefd201b9b01",
   "metadata": {},
   "outputs": [
    {
     "data": {
      "text/plain": [
       "array([2.71828183e+00, 2.00855369e+01, 1.48413159e+02, 1.09663316e+03,\n",
       "       8.10308393e+03, 5.98741417e+04, 4.42413392e+05, 3.26901737e+06,\n",
       "       2.41549528e+07, 1.78482301e+08])"
      ]
     },
     "execution_count": 44,
     "metadata": {},
     "output_type": "execute_result"
    }
   ],
   "source": [
    "# Exponencial de los elemetos de un arreglo.\n",
    "np.exp(array1)"
   ]
  },
  {
   "cell_type": "code",
   "execution_count": 45,
   "id": "08be98a1-411b-4535-991c-315548cf01dd",
   "metadata": {},
   "outputs": [
    {
     "data": {
      "text/plain": [
       "array([0.        , 1.09861229, 1.60943791, 1.94591015, 2.19722458,\n",
       "       2.39789527, 2.56494936, 2.7080502 , 2.83321334, 2.94443898])"
      ]
     },
     "execution_count": 45,
     "metadata": {},
     "output_type": "execute_result"
    }
   ],
   "source": [
    "# LOg de los elemntos del arreglo.\n",
    "np.log(array1)"
   ]
  },
  {
   "cell_type": "code",
   "execution_count": null,
   "id": "c678132e-76a3-448c-b474-0df214ba0314",
   "metadata": {},
   "outputs": [],
   "source": []
  },
  {
   "cell_type": "code",
   "execution_count": null,
   "id": "94d8345c-858e-4d91-ba43-6b568d26f271",
   "metadata": {},
   "outputs": [],
   "source": []
  },
  {
   "cell_type": "code",
   "execution_count": null,
   "id": "f96ae129-9b2f-4173-8897-74f405e75c6a",
   "metadata": {},
   "outputs": [],
   "source": []
  },
  {
   "cell_type": "code",
   "execution_count": null,
   "id": "d734f85b-21b9-499f-9835-4700f9c8ad32",
   "metadata": {},
   "outputs": [],
   "source": []
  },
  {
   "cell_type": "code",
   "execution_count": null,
   "id": "bdf2e927-54bd-472d-8e7b-b481e3af173c",
   "metadata": {},
   "outputs": [],
   "source": []
  },
  {
   "cell_type": "code",
   "execution_count": null,
   "id": "cde4bc2e-9bb7-4e23-90d2-9d7a3c96a532",
   "metadata": {},
   "outputs": [],
   "source": []
  }
 ],
 "metadata": {
  "kernelspec": {
   "display_name": "Python 3 (ipykernel)",
   "language": "python",
   "name": "python3"
  },
  "language_info": {
   "codemirror_mode": {
    "name": "ipython",
    "version": 3
   },
   "file_extension": ".py",
   "mimetype": "text/x-python",
   "name": "python",
   "nbconvert_exporter": "python",
   "pygments_lexer": "ipython3",
   "version": "3.11.7"
  }
 },
 "nbformat": 4,
 "nbformat_minor": 5
}
