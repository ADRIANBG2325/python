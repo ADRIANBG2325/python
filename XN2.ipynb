{
 "cells": [
  {
   "cell_type": "code",
   "execution_count": 44,
   "id": "fcae11f0-ea50-426f-9886-953b7ea8b679",
   "metadata": {},
   "outputs": [],
   "source": [
    "import pulp"
   ]
  },
  {
   "cell_type": "code",
   "execution_count": 45,
   "id": "a3e59d19-1aa6-4cfa-89f9-0f71f84c3db4",
   "metadata": {},
   "outputs": [],
   "source": [
    "prob=pulp.LpProblem(\"Problema_maximizacion\",pulp.LpMaximize)\n"
   ]
  },
  {
   "cell_type": "code",
   "execution_count": 46,
   "id": "4fb1afa6-e4cb-4761-9b4c-7d00a293a4d3",
   "metadata": {},
   "outputs": [],
   "source": [
    "n=100\n",
    "dv=pulp.LpVariable.dicts(\"X\",range(n))"
   ]
  },
  {
   "cell_type": "code",
   "execution_count": 47,
   "id": "277e5716-7f99-4c63-85ae-1a0d1a1079d3",
   "metadata": {},
   "outputs": [],
   "source": [
    "prob+=sum(i*dv[i] for i in range(n))"
   ]
  },
  {
   "cell_type": "code",
   "execution_count": 58,
   "id": "acef6c27-b82f-4ba6-9460-6553666f93d8",
   "metadata": {},
   "outputs": [],
   "source": [
    "prob+=sum(dv[i] for i in range(n))<=100\n",
    "prob+=sum(i*dv[i] for i in range(n))>=54"
   ]
  },
  {
   "cell_type": "code",
   "execution_count": 60,
   "id": "252bb78d-90fb-475d-a40c-0da589e2f830",
   "metadata": {},
   "outputs": [
    {
     "data": {
      "text/plain": [
       "-2"
      ]
     },
     "execution_count": 60,
     "metadata": {},
     "output_type": "execute_result"
    }
   ],
   "source": [
    "prob.solve()"
   ]
  },
  {
   "cell_type": "code",
   "execution_count": 57,
   "id": "ec794154-b831-4384-9a6b-18c523778dce",
   "metadata": {},
   "outputs": [
    {
     "name": "stdout",
     "output_type": "stream",
     "text": [
      "X_0 = 0.0\n",
      "X_1 = 0.0\n",
      "X_10 = 0.0\n",
      "X_11 = 0.0\n",
      "X_12 = 0.0\n",
      "X_13 = 0.0\n",
      "X_14 = 0.0\n",
      "X_15 = 0.0\n",
      "X_16 = 0.0\n",
      "X_17 = 0.0\n",
      "X_18 = 0.0\n",
      "X_19 = 0.0\n",
      "X_2 = 0.0\n",
      "X_20 = 0.0\n",
      "X_21 = 0.0\n",
      "X_22 = 0.0\n",
      "X_23 = 0.0\n",
      "X_24 = 0.0\n",
      "X_25 = 0.0\n",
      "X_26 = 0.0\n",
      "X_27 = 0.0\n",
      "X_28 = 0.0\n",
      "X_29 = 0.0\n",
      "X_3 = 0.0\n",
      "X_30 = 0.0\n",
      "X_31 = 0.0\n",
      "X_32 = 0.0\n",
      "X_33 = 0.0\n",
      "X_34 = 0.0\n",
      "X_35 = 0.0\n",
      "X_36 = 0.0\n",
      "X_37 = 0.0\n",
      "X_38 = 0.0\n",
      "X_39 = 0.0\n",
      "X_4 = 0.0\n",
      "X_40 = 0.0\n",
      "X_41 = 0.0\n",
      "X_42 = 0.0\n",
      "X_43 = 0.0\n",
      "X_44 = 0.0\n",
      "X_45 = 0.0\n",
      "X_46 = 0.0\n",
      "X_47 = 0.0\n",
      "X_48 = 0.0\n",
      "X_49 = 0.0\n",
      "X_5 = 0.0\n",
      "X_50 = 0.0\n",
      "X_51 = 0.0\n",
      "X_52 = 0.0\n",
      "X_53 = 0.0\n",
      "X_54 = 0.0\n",
      "X_55 = 0.0\n",
      "X_56 = 0.0\n",
      "X_57 = 0.0\n",
      "X_58 = 0.0\n",
      "X_59 = 0.0\n",
      "X_6 = 0.0\n",
      "X_60 = 0.0\n",
      "X_61 = 0.0\n",
      "X_62 = 0.0\n",
      "X_63 = 0.0\n",
      "X_64 = 0.0\n",
      "X_65 = 0.0\n",
      "X_66 = 0.0\n",
      "X_67 = 0.0\n",
      "X_68 = 0.0\n",
      "X_69 = 0.0\n",
      "X_7 = 0.0\n",
      "X_70 = 0.0\n",
      "X_71 = 0.0\n",
      "X_72 = 0.0\n",
      "X_73 = 0.0\n",
      "X_74 = 0.0\n",
      "X_75 = 0.0\n",
      "X_76 = 0.0\n",
      "X_77 = 0.0\n",
      "X_78 = 0.0\n",
      "X_79 = 0.0\n",
      "X_8 = 0.0\n",
      "X_80 = 0.0\n",
      "X_81 = 0.0\n",
      "X_82 = 0.0\n",
      "X_83 = 0.0\n",
      "X_84 = 0.0\n",
      "X_85 = 0.0\n",
      "X_86 = 0.0\n",
      "X_87 = 0.0\n",
      "X_88 = 0.0\n",
      "X_89 = 0.0\n",
      "X_9 = 0.0\n",
      "X_90 = 0.0\n",
      "X_91 = 0.0\n",
      "X_92 = 0.0\n",
      "X_93 = 0.0\n",
      "X_94 = 0.0\n",
      "X_95 = 0.0\n",
      "X_96 = 0.0\n",
      "X_97 = 0.0\n",
      "X_98 = 0.0\n",
      "X_99 = 0.0\n"
     ]
    }
   ],
   "source": [
    "for v in prob.variables():print(v.name, \"=\",v.varValue)\n",
    "    "
   ]
  },
  {
   "cell_type": "code",
   "execution_count": null,
   "id": "0ccc30f3-384d-4d5e-b31c-8a40682a4a38",
   "metadata": {},
   "outputs": [],
   "source": []
  },
  {
   "cell_type": "code",
   "execution_count": null,
   "id": "ee42b39e-92e1-4530-87ff-28b25c2fbba3",
   "metadata": {},
   "outputs": [],
   "source": []
  },
  {
   "cell_type": "code",
   "execution_count": null,
   "id": "83ab3acd-f73c-4976-8462-29a0fdbcb908",
   "metadata": {},
   "outputs": [],
   "source": []
  }
 ],
 "metadata": {
  "kernelspec": {
   "display_name": "Python 3 (ipykernel)",
   "language": "python",
   "name": "python3"
  },
  "language_info": {
   "codemirror_mode": {
    "name": "ipython",
    "version": 3
   },
   "file_extension": ".py",
   "mimetype": "text/x-python",
   "name": "python",
   "nbconvert_exporter": "python",
   "pygments_lexer": "ipython3",
   "version": "3.11.9"
  }
 },
 "nbformat": 4,
 "nbformat_minor": 5
}
