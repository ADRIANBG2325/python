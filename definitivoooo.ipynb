{
 "cells": [
  {
   "cell_type": "code",
   "execution_count": 1,
   "id": "69fd92ef-9f27-4b95-b0e8-360f993343b0",
   "metadata": {},
   "outputs": [],
   "source": [
    "from pulp import*"
   ]
  },
  {
   "cell_type": "code",
   "execution_count": 41,
   "id": "1ce6229d-b5b8-427b-bf26-ca9aa28f0b2a",
   "metadata": {},
   "outputs": [
    {
     "name": "stdin",
     "output_type": "stream",
     "text": [
      "ingrese el numero de variables de desicion: 8\n"
     ]
    }
   ],
   "source": [
    "num_vars=int(input(\"ingrese el numero de variables de desicion:\"))"
   ]
  },
  {
   "cell_type": "code",
   "execution_count": 42,
   "id": "781b87f3-9c68-4ac6-8749-260cf43b1ee0",
   "metadata": {},
   "outputs": [
    {
     "name": "stdin",
     "output_type": "stream",
     "text": [
      "ingrese el nombre de la variable 1: x1\n",
      "ingrese el nombre de la variable 2: x2\n",
      "ingrese el nombre de la variable 3: x3\n",
      "ingrese el nombre de la variable 4: x4\n",
      "ingrese el nombre de la variable 5: x5\n",
      "ingrese el nombre de la variable 6: x6\n",
      "ingrese el nombre de la variable 7: x7\n",
      "ingrese el nombre de la variable 8: x8\n"
     ]
    }
   ],
   "source": [
    "vars=[]\n",
    "for i in range(num_vars):\n",
    "    \n",
    "    var_name=input(f\"ingrese el nombre de la variable {i+1}:\")\n",
    "    var=LpVariable(var_name, lowBound=0)\n",
    "    vars.append(var)"
   ]
  },
  {
   "cell_type": "code",
   "execution_count": 28,
   "id": "69440aba-1305-451c-a3b4-ee9fcf2494cd",
   "metadata": {},
   "outputs": [
    {
     "name": "stdout",
     "output_type": "stream",
     "text": [
      "ingrese los coeficientes de la funcion objetivo(separados por espacios):\n"
     ]
    },
    {
     "name": "stdin",
     "output_type": "stream",
     "text": [
      " 5 3 6\n"
     ]
    }
   ],
   "source": [
    "print(\"ingrese los coeficientes de la funcion objetivo(separados por espacios):\")\n",
    "obj_coeffs=[float(x) for x in input().split()]\n"
   ]
  },
  {
   "cell_type": "code",
   "execution_count": 29,
   "id": "021af3b6-c7c3-4665-8bb6-d5ec0a9c99ea",
   "metadata": {},
   "outputs": [],
   "source": [
    "objective = lpSum([c*v for c, v in zip(obj_coeffs, vars)])"
   ]
  },
  {
   "cell_type": "code",
   "execution_count": 30,
   "id": "5d70e3e3-e06a-451b-827d-2ca54ea727fa",
   "metadata": {},
   "outputs": [
    {
     "name": "stdin",
     "output_type": "stream",
     "text": [
      "Ingrese el número de restricciones:  3\n"
     ]
    }
   ],
   "source": [
    "num_constraints=int(input(\"Ingrese el número de restricciones: \"))"
   ]
  },
  {
   "cell_type": "code",
   "execution_count": 36,
   "id": "8b1511ef-a3b8-49d1-aeb0-4695cf194eb7",
   "metadata": {},
   "outputs": [
    {
     "name": "stdout",
     "output_type": "stream",
     "text": [
      "Ingrese los coeficientes de la restricción 1 (separados por espacios):\n"
     ]
    },
    {
     "name": "stdin",
     "output_type": "stream",
     "text": [
      " 4 1 2\n",
      "Ingrese el término independiente de la restricción:  14\n",
      "Ingrese el sentido de la restricción (<=, >=, ==):  ==\n"
     ]
    },
    {
     "name": "stdout",
     "output_type": "stream",
     "text": [
      "Ingrese los coeficientes de la restricción 2 (separados por espacios):\n"
     ]
    },
    {
     "name": "stdin",
     "output_type": "stream",
     "text": [
      " 3 4 1\n",
      "Ingrese el término independiente de la restricción:  12\n",
      "Ingrese el sentido de la restricción (<=, >=, ==):  ==\n"
     ]
    },
    {
     "name": "stdout",
     "output_type": "stream",
     "text": [
      "Ingrese los coeficientes de la restricción 3 (separados por espacios):\n"
     ]
    },
    {
     "name": "stdin",
     "output_type": "stream",
     "text": [
      " 2 3 3\n",
      "Ingrese el término independiente de la restricción:  18\n",
      "Ingrese el sentido de la restricción (<=, >=, ==):  ==\n"
     ]
    }
   ],
   "source": [
    "constraints = []\n",
    "for i in range(num_constraints):\n",
    "    print(f\"Ingrese los coeficientes de la restricción {i+1} (separados por espacios):\")\n",
    "    constraint_coeffs = [float(x) for x in input().split()]\n",
    "    rhs = float(input(\"Ingrese el término independiente de la restricción: \"))\n",
    "    constraint = lpSum([c*v for c, v in zip(constraint_coeffs, vars)])\n",
    "    sense = input(\"Ingrese el sentido de la restricción (<=, >=, ==): \")\n",
    "    if sense == \"<=\":\n",
    "        constraints.append(constraint <= rhs)\n",
    "    elif sense == \">=\":\n",
    "        constraints.append(constraint >= rhs)\n",
    "    else:\n",
    "        constraints.append(constraint == rhs)"
   ]
  },
  {
   "cell_type": "code",
   "execution_count": 37,
   "id": "d4426d4d-2101-41fb-828c-656b628d804a",
   "metadata": {},
   "outputs": [],
   "source": [
    "prob = LpProblem(\"MiProblema\", LpMaximize)"
   ]
  },
  {
   "cell_type": "code",
   "execution_count": 38,
   "id": "f312e0e4-60c0-4432-a962-ac9b808cafb7",
   "metadata": {},
   "outputs": [],
   "source": [
    "prob += objective\n",
    "for constraint in constraints:\n",
    "    prob += constraint"
   ]
  },
  {
   "cell_type": "code",
   "execution_count": 39,
   "id": "e1176b82-e984-4f34-9f5e-fc4397abe27b",
   "metadata": {},
   "outputs": [
    {
     "data": {
      "text/plain": [
       "<bound method LpProblem.solve of MiProblema:\n",
       "MAXIMIZE\n",
       "5.0*x1 + 3.0*x2 + 6.0*x3 + 0.0\n",
       "SUBJECT TO\n",
       "_C1: 4 x1 + x2 + 2 x3 = 14\n",
       "\n",
       "_C2: 3 x1 + 4 x2 + x3 = 12\n",
       "\n",
       "_C3: 2 x1 + 3 x2 + 3 x3 = 18\n",
       "\n",
       "VARIABLES\n",
       "x1 Continuous\n",
       "x2 Continuous\n",
       "x3 Continuous\n",
       ">"
      ]
     },
     "execution_count": 39,
     "metadata": {},
     "output_type": "execute_result"
    }
   ],
   "source": [
    "prob.solve"
   ]
  },
  {
   "cell_type": "code",
   "execution_count": 40,
   "id": "b85872f4-6289-4e90-85dd-19d19c84a519",
   "metadata": {},
   "outputs": [
    {
     "name": "stdout",
     "output_type": "stream",
     "text": [
      "Status: Optimal\n",
      "x1 = 1.1612903\n",
      "x2 = 1.0967742\n",
      "x3 = 4.1290323\n"
     ]
    }
   ],
   "source": [
    "status =prob.solve()\n",
    "print(\"Status:\", LpStatus[prob.status])\n",
    "for v in prob.variables():\n",
    "    print(v.name, \"=\", v.varValue)"
   ]
  },
  {
   "cell_type": "code",
   "execution_count": null,
   "id": "7dd416c6-33b7-4681-8339-f06760a8b83c",
   "metadata": {},
   "outputs": [],
   "source": []
  },
  {
   "cell_type": "code",
   "execution_count": null,
   "id": "b8484687-3406-459c-b761-42e9a9d8006f",
   "metadata": {},
   "outputs": [],
   "source": []
  }
 ],
 "metadata": {
  "kernelspec": {
   "display_name": "Python 3 (ipykernel)",
   "language": "python",
   "name": "python3"
  },
  "language_info": {
   "codemirror_mode": {
    "name": "ipython",
    "version": 3
   },
   "file_extension": ".py",
   "mimetype": "text/x-python",
   "name": "python",
   "nbconvert_exporter": "python",
   "pygments_lexer": "ipython3",
   "version": "3.11.9"
  }
 },
 "nbformat": 4,
 "nbformat_minor": 5
}
