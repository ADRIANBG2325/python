{
 "cells": [
  {
   "cell_type": "code",
   "execution_count": 1,
   "id": "10db4c2e-cd7c-4751-9cd3-d95332805d0a",
   "metadata": {},
   "outputs": [
    {
     "name": "stdout",
     "output_type": "stream",
     "text": [
      "Requirement already satisfied: gekko in c:\\users\\ad\\anaconda3\\envs\\proba\\lib\\site-packages (1.2.1)\n",
      "Requirement already satisfied: numpy>=1.8 in c:\\users\\ad\\anaconda3\\envs\\proba\\lib\\site-packages (from gekko) (2.1.3)\n"
     ]
    },
    {
     "name": "stderr",
     "output_type": "stream",
     "text": [
      "WARNING: Skipping C:\\Users\\AD\\anaconda3\\envs\\proba\\Lib\\site-packages\\numpy-1.26.4.dist-info due to invalid metadata entry 'name'\n",
      "WARNING: Skipping C:\\Users\\AD\\anaconda3\\envs\\proba\\Lib\\site-packages\\numpy-1.26.4.dist-info due to invalid metadata entry 'name'\n",
      "WARNING: Skipping C:\\Users\\AD\\anaconda3\\envs\\proba\\Lib\\site-packages\\numpy-1.26.4.dist-info due to invalid metadata entry 'name'\n",
      "WARNING: Skipping C:\\Users\\AD\\anaconda3\\envs\\proba\\Lib\\site-packages\\numpy-1.26.4.dist-info due to invalid metadata entry 'name'\n",
      "WARNING: Skipping C:\\Users\\AD\\anaconda3\\envs\\proba\\Lib\\site-packages\\numpy-1.26.4.dist-info due to invalid metadata entry 'name'\n"
     ]
    }
   ],
   "source": [
    "!pip install gekko"
   ]
  },
  {
   "cell_type": "code",
   "execution_count": 4,
   "id": "f31af79f-6c85-45c2-822a-ae7544d5e650",
   "metadata": {},
   "outputs": [],
   "source": [
    "import numpy as np\n",
    "from python_tsp.exact import solve_tsp_dynamic_programming\n",
    "\n",
    "def resolver_tsp(matriz_distancias):\n",
    "    # Asegurarse de que la matriz sea un numpy array\n",
    "    matriz_distancias = np.array(matriz_distancias)\n",
    "    \n",
    "    # Validar que la matriz sea cuadrada\n",
    "    if matriz_distancias.shape[0] != matriz_distancias.shape[1]:\n",
    "        raise ValueError(\"La matriz de distancias debe ser cuadrada.\")\n",
    "    \n",
    "    # Resolver el problema TSP\n",
    "    ruta, distancia = solve_tsp_dynamic_programming(matriz_distancias)\n",
    "    \n",
    "    # Ajustar la ruta para que empiece en 1 en lugar de 0\n",
    "    ruta = np.array(ruta) + 1\n",
    "    \n",
    "    print(\"La ruta más corta es:\", ruta, \"y la distancia es:\", distancia)\n",
    "    return ruta, distancia"
   ]
  },
  {
   "cell_type": "code",
   "execution_count": 6,
   "id": "193f9090-3230-48cb-9543-a1f84b4b4982",
   "metadata": {},
   "outputs": [
    {
     "name": "stdout",
     "output_type": "stream",
     "text": [
      "La ruta más corta es: [1 4 6 5 2 3] y la distancia es: 241\n"
     ]
    },
    {
     "data": {
      "text/plain": [
       "(array([1, 4, 6, 5, 2, 3]), np.int64(241))"
      ]
     },
     "execution_count": 6,
     "metadata": {},
     "output_type": "execute_result"
    }
   ],
   "source": [
    "distancia_matriz = np.array([\n",
    "    [0,15,32,19,24,14],\n",
    "    [28,0,17,32,33,37],\n",
    "    [25,29,0,31,18,31],\n",
    "    [42,40,38,0,28,37],\n",
    "    [120,114,128,131,0,127],\n",
    "    [38,35,26,43,29,0],\n",
    "])\n",
    "resolver_tsp(distancia_matriz)\n",
    "                            "
   ]
  },
  {
   "cell_type": "code",
   "execution_count": null,
   "id": "f1f56d56-d946-49a0-ad85-f89cfb5cafa1",
   "metadata": {},
   "outputs": [],
   "source": []
  },
  {
   "cell_type": "code",
   "execution_count": null,
   "id": "0f5ece8a-63ca-4656-be0a-d6cb9f9b2ab9",
   "metadata": {},
   "outputs": [],
   "source": []
  }
 ],
 "metadata": {
  "kernelspec": {
   "display_name": "Python 3 (ipykernel)",
   "language": "python",
   "name": "python3"
  },
  "language_info": {
   "codemirror_mode": {
    "name": "ipython",
    "version": 3
   },
   "file_extension": ".py",
   "mimetype": "text/x-python",
   "name": "python",
   "nbconvert_exporter": "python",
   "pygments_lexer": "ipython3",
   "version": "3.11.9"
  }
 },
 "nbformat": 4,
 "nbformat_minor": 5
}
