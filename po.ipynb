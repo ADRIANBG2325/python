{
 "cells": [
  {
   "cell_type": "code",
   "execution_count": null,
   "id": "eaeb137b-fc3b-43e9-856d-32c7bf55ccd8",
   "metadata": {},
   "outputs": [],
   "source": [
    "!pip install gekko"
   ]
  },
  {
   "cell_type": "code",
   "execution_count": null,
   "id": "34389b71-bff6-4bb9-933c-63f4f7dbbd13",
   "metadata": {},
   "outputs": [],
   "source": []
  },
  {
   "cell_type": "code",
   "execution_count": null,
   "id": "bfba833d-bdaa-4245-8b41-6818e4cf7825",
   "metadata": {},
   "outputs": [],
   "source": []
  }
 ],
 "metadata": {
  "kernelspec": {
   "display_name": "Python 3 (ipykernel)",
   "language": "python",
   "name": "python3"
  },
  "language_info": {
   "codemirror_mode": {
    "name": "ipython",
    "version": 3
   },
   "file_extension": ".py",
   "mimetype": "text/x-python",
   "name": "python",
   "nbconvert_exporter": "python",
   "pygments_lexer": "ipython3",
   "version": "3.11.9"
  }
 },
 "nbformat": 4,
 "nbformat_minor": 5
}
