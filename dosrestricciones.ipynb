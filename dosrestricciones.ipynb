{
 "cells": [
  {
   "cell_type": "code",
   "execution_count": 2,
   "id": "527fee43-6d23-4d78-8eac-1372ba71e109",
   "metadata": {},
   "outputs": [],
   "source": [
    "from pulp import *"
   ]
  },
  {
   "cell_type": "code",
   "execution_count": 4,
   "id": "a68dc1ae-4bcf-4d69-91b0-81d8292fdad9",
   "metadata": {},
   "outputs": [],
   "source": [
    "problema= LpProblem(\"PROBLEMA_DE_OPTIMIZACION_LINELA\",LpMaximize)\n",
    "x1=LpVariable(\"X1\")\n",
    "x2=LpVariable(\"X2\")"
   ]
  },
  {
   "cell_type": "code",
   "execution_count": 5,
   "id": "7708df19-1d22-40e1-97ad-179ece5c5d2d",
   "metadata": {},
   "outputs": [],
   "source": [
    "## Funcion objetivo\n",
    "problema+= 2*x1-4*x2\n",
    "## Restricciones\n",
    "problema += -x1+x2<=3\n",
    "problema +=-x1+x2>=-4\n",
    "problema += 3*x1+x2==4"
   ]
  },
  {
   "cell_type": "code",
   "execution_count": 6,
   "id": "05fc0e55-9881-497b-ac3c-f4f853824dcd",
   "metadata": {},
   "outputs": [
    {
     "data": {
      "text/plain": [
       "PROBLEMA_DE_OPTIMIZACION_LINELA:\n",
       "MAXIMIZE\n",
       "2*X1 + -4*X2 + 0\n",
       "SUBJECT TO\n",
       "_C1: - X1 + X2 <= 3\n",
       "\n",
       "_C2: - X1 + X2 >= -4\n",
       "\n",
       "_C3: 3 X1 + X2 = 4\n",
       "\n",
       "VARIABLES\n",
       "X1 free Continuous\n",
       "X2 free Continuous"
      ]
     },
     "execution_count": 6,
     "metadata": {},
     "output_type": "execute_result"
    }
   ],
   "source": [
    "problema"
   ]
  },
  {
   "cell_type": "code",
   "execution_count": null,
   "id": "2553621c-0242-423e-b2e6-f495cdb8f748",
   "metadata": {},
   "outputs": [],
   "source": []
  }
 ],
 "metadata": {
  "kernelspec": {
   "display_name": "Python 3 (ipykernel)",
   "language": "python",
   "name": "python3"
  },
  "language_info": {
   "codemirror_mode": {
    "name": "ipython",
    "version": 3
   },
   "file_extension": ".py",
   "mimetype": "text/x-python",
   "name": "python",
   "nbconvert_exporter": "python",
   "pygments_lexer": "ipython3",
   "version": "3.11.9"
  }
 },
 "nbformat": 4,
 "nbformat_minor": 5
}
