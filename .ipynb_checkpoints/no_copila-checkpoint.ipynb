{
 "cells": [
  {
   "cell_type": "code",
   "execution_count": 1,
   "id": "06de8a12-6bdd-4e5e-ba82-2d5ee68c62d8",
   "metadata": {},
   "outputs": [],
   "source": [
    "import pulp"
   ]
  },
  {
   "cell_type": "code",
   "execution_count": 3,
   "id": "ea8f402b-5764-49dd-a810-a6b0e6f4487c",
   "metadata": {},
   "outputs": [],
   "source": [
    "prob=pulp.LpProblem(\"Problema_maximizacion\",pulp.LpMaximize)\n"
   ]
  },
  {
   "cell_type": "code",
   "execution_count": 4,
   "id": "8b7b0e0e-cc02-4782-9030-424ba3916bad",
   "metadata": {},
   "outputs": [],
   "source": [
    "x=pulp.LpVariable(\"X\",lowBound=0)\n",
    "y=pulp.LpVariable(\"Y\",lowBound=0)"
   ]
  },
  {
   "cell_type": "code",
   "execution_count": 5,
   "id": "b27af9bc-e464-4328-bec0-e85fbaf5f6b0",
   "metadata": {},
   "outputs": [],
   "source": [
    "prob+=2*x+3*y"
   ]
  },
  {
   "cell_type": "code",
   "execution_count": 17,
   "id": "8749bd3b-5527-447d-81a8-1bc52c11686e",
   "metadata": {},
   "outputs": [],
   "source": [
    "prob += x+ y<=5\n",
    "prob+=3*x+y<=6\n",
    "prob+=x>=1"
   ]
  },
  {
   "cell_type": "code",
   "execution_count": 13,
   "id": "456f906a-f5d7-4f8d-89af-3b59a76dc1bd",
   "metadata": {},
   "outputs": [
    {
     "data": {
      "text/plain": [
       "<bound method LpProblem.solve of Problema_maximizacion:\n",
       "MAXIMIZE\n",
       "2*X + 3*Y + 0\n",
       "SUBJECT TO\n",
       "_C1: X + Y <= 4\n",
       "\n",
       "_C2: 3 X + Y <= 6\n",
       "\n",
       "_C3: X >= 1\n",
       "\n",
       "VARIABLES\n",
       "X Continuous\n",
       "Y Continuous\n",
       ">"
      ]
     },
     "execution_count": 13,
     "metadata": {},
     "output_type": "execute_result"
    }
   ],
   "source": [
    "prob.solve"
   ]
  },
  {
   "cell_type": "code",
   "execution_count": 9,
   "id": "342e657f-69bf-4bd6-93b4-70b80df1df5f",
   "metadata": {},
   "outputs": [
    {
     "name": "stdout",
     "output_type": "stream",
     "text": [
      "Status: Not Solved\n"
     ]
    }
   ],
   "source": [
    "print(\"Status:\",pulp.LpStatus[prob.status])"
   ]
  },
  {
   "cell_type": "code",
   "execution_count": 10,
   "id": "5f8595b5-de4f-4172-8e1e-21773625ad17",
   "metadata": {},
   "outputs": [
    {
     "name": "stdout",
     "output_type": "stream",
     "text": [
      "valor_optimo: None\n"
     ]
    }
   ],
   "source": [
    "print(\"valor_optimo:\",pulp.value(prob.objective))"
   ]
  },
  {
   "cell_type": "code",
   "execution_count": null,
   "id": "4b7334ba-3943-4f16-864d-4c28c7b49692",
   "metadata": {},
   "outputs": [],
   "source": []
  }
 ],
 "metadata": {
  "kernelspec": {
   "display_name": "Python 3 (ipykernel)",
   "language": "python",
   "name": "python3"
  },
  "language_info": {
   "codemirror_mode": {
    "name": "ipython",
    "version": 3
   },
   "file_extension": ".py",
   "mimetype": "text/x-python",
   "name": "python",
   "nbconvert_exporter": "python",
   "pygments_lexer": "ipython3",
   "version": "3.11.9"
  }
 },
 "nbformat": 4,
 "nbformat_minor": 5
}
