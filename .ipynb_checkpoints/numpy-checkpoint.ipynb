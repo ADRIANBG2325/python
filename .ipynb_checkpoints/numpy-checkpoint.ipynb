{
 "cells": [
  {
   "cell_type": "markdown",
   "id": "5d69952a-9467-4184-a1cd-d71034bad7f2",
   "metadata": {},
   "source": [
    "# introduccion a numpy\n"
   ]
  },
  {
   "cell_type": "markdown",
   "id": "4a421074-8e3c-4d64-9273-cd37718e6ffe",
   "metadata": {},
   "source": [
    "[numpy](https://numpy.org/) es una libreria fundamental pata la computacion\n",
    "cientifica con python.\n",
    "* proporciona arrays N-dimencionales.\n",
    "* implementa funciones matematicas sofisticadas.\n",
    "* proporciona herramientas para integrar C/C++ Y Fortran.\n",
    "* proporciona mecanismos para facilitar la realizacion de tareas relacionadas con algebra linela o numeros aleatorios."
   ]
  },
  {
   "cell_type": "markdown",
   "id": "3176365f-f7d9-413b-8260-44a5c50bed79",
   "metadata": {},
   "source": [
    "# imports "
   ]
  },
  {
   "cell_type": "code",
   "execution_count": 2,
   "id": "a61ebf35-0566-447a-a95a-ebbd510d949c",
   "metadata": {},
   "outputs": [],
   "source": [
    "import numpy as np"
   ]
  },
  {
   "cell_type": "markdown",
   "id": "77380cd8-8ce0-48b0-b58e-593b12cf4d5b",
   "metadata": {},
   "source": [
    "## Arrays\n"
   ]
  },
  {
   "cell_type": "markdown",
   "id": "b2a53078-3a80-4938-aeea-8fbcf141e135",
   "metadata": {},
   "source": [
    "un **array** es una estructura de datos que consiste en una coleccion de elementos (valores o variables\n",
    "cada uno identificado por al menos un indice o clave. Un array se almacena de modo que la posicion de cada\n",
    "elemento se pueda calcular apartir de su tupla de indice mediante una formula matematica el tipo mas simple,\n",
    "es el array lineal tambien llamado array unidimencional ."
   ]
  },
  {
   "cell_type": "markdown",
   "id": "72928926-c37a-4ecf-94ba-574b8712fd63",
   "metadata": {},
   "source": [
    "En numpy:\n",
    "* Cada dimencion se denomina  **axis**.\n",
    "* El numero de dimenciones se denomina **rank**.\n",
    "* La lista de dimenciones con su correspondiente  longitud se denomina **shappe**.\n",
    "* El numero total de elementos que es la (multiplicacion de ela dimenciones), se denomina **size**"
   ]
  },
  {
   "cell_type": "code",
   "execution_count": 5,
   "id": "eb544730-5d2e-400f-860a-90de99d913a1",
   "metadata": {},
   "outputs": [
    {
     "name": "stdout",
     "output_type": "stream",
     "text": [
      "hola mundo\n",
      "ya soy pro\n"
     ]
    },
    {
     "data": {
      "text/plain": [
       "20"
      ]
     },
     "execution_count": 5,
     "metadata": {},
     "output_type": "execute_result"
    }
   ],
   "source": [
    "# hola mundo\n",
    "print (\"hola mundo\")\n",
    "print ('ya soy pro')\n",
    "a=20\n",
    "a\n",
    "\n"
   ]
  },
  {
   "cell_type": "code",
   "execution_count": 6,
   "id": "ec26d00c-b2f5-4b03-8059-948be121de40",
   "metadata": {},
   "outputs": [],
   "source": [
    "# Array cuyos valores son todos 0\n",
    "a = np.zeros((2,4))"
   ]
  },
  {
   "cell_type": "code",
   "execution_count": 7,
   "id": "dfa78a80-65f8-41ca-8670-4a679f5e0368",
   "metadata": {},
   "outputs": [
    {
     "data": {
      "text/plain": [
       "array([[0., 0., 0., 0.],\n",
       "       [0., 0., 0., 0.]])"
      ]
     },
     "execution_count": 7,
     "metadata": {},
     "output_type": "execute_result"
    }
   ],
   "source": [
    "a"
   ]
  },
  {
   "cell_type": "markdown",
   "id": "b35f746a-6098-4712-87ea-d229021b490c",
   "metadata": {},
   "source": [
    "_**a**_ es un array:\n",
    "\n",
    "* con dos **axis**, el primero de longitus 2 y segundo de longitud 4.\n",
    "* con un **rank** igual a 2.\n",
    "* con un **shape** igual a (2,4).\n",
    "* con un **size** igual a 8 "
   ]
  },
  {
   "cell_type": "code",
   "execution_count": 8,
   "id": "390e390f-995c-4858-bc2c-788c71cff4d0",
   "metadata": {},
   "outputs": [
    {
     "data": {
      "text/plain": [
       "(2, 4)"
      ]
     },
     "execution_count": 8,
     "metadata": {},
     "output_type": "execute_result"
    }
   ],
   "source": [
    "a.shape"
   ]
  },
  {
   "cell_type": "code",
   "execution_count": 9,
   "id": "d2a309b9-9ded-4aa3-ba59-615438cdca40",
   "metadata": {},
   "outputs": [
    {
     "data": {
      "text/plain": [
       "2"
      ]
     },
     "execution_count": 9,
     "metadata": {},
     "output_type": "execute_result"
    }
   ],
   "source": [
    "a.ndim"
   ]
  },
  {
   "cell_type": "code",
   "execution_count": 10,
   "id": "6a6d61d3-3cd8-44ce-90d2-dfb16d266a9d",
   "metadata": {},
   "outputs": [
    {
     "data": {
      "text/plain": [
       "8"
      ]
     },
     "execution_count": 10,
     "metadata": {},
     "output_type": "execute_result"
    }
   ],
   "source": [
    "a.size"
   ]
  },
  {
   "cell_type": "markdown",
   "id": "ec81e42b-3471-4d5e-b6be-9374658edf0b",
   "metadata": {},
   "source": [
    "## Creacion de arreglos.\n"
   ]
  },
  {
   "cell_type": "code",
   "execution_count": 11,
   "id": "2a87eb9e-6071-449b-b046-e19246d4948a",
   "metadata": {},
   "outputs": [
    {
     "data": {
      "text/plain": [
       "array([[[0., 0., 0., 0.],\n",
       "        [0., 0., 0., 0.],\n",
       "        [0., 0., 0., 0.]],\n",
       "\n",
       "       [[0., 0., 0., 0.],\n",
       "        [0., 0., 0., 0.],\n",
       "        [0., 0., 0., 0.]]])"
      ]
     },
     "execution_count": 11,
     "metadata": {},
     "output_type": "execute_result"
    }
   ],
   "source": [
    "# array cuyos valores son todos 0\n",
    "np.zeros((2,3,4))"
   ]
  },
  {
   "cell_type": "code",
   "execution_count": 12,
   "id": "04c01c93-90d1-4bf4-9641-21d0c7da7a9a",
   "metadata": {},
   "outputs": [
    {
     "data": {
      "text/plain": [
       "array([[[1., 1., 1., 1.],\n",
       "        [1., 1., 1., 1.],\n",
       "        [1., 1., 1., 1.]],\n",
       "\n",
       "       [[1., 1., 1., 1.],\n",
       "        [1., 1., 1., 1.],\n",
       "        [1., 1., 1., 1.]]])"
      ]
     },
     "execution_count": 12,
     "metadata": {},
     "output_type": "execute_result"
    }
   ],
   "source": [
    "# array cuyos valores son todos 1 \n",
    "np.ones((2,3,4))"
   ]
  },
  {
   "cell_type": "code",
   "execution_count": 18,
   "id": "96e27091-5f3f-4cf7-813e-545fd471d9dd",
   "metadata": {},
   "outputs": [
    {
     "data": {
      "text/plain": [
       "array([[[4, 4, 4, 4],\n",
       "        [4, 4, 4, 4],\n",
       "        [4, 4, 4, 4]],\n",
       "\n",
       "       [[4, 4, 4, 4],\n",
       "        [4, 4, 4, 4],\n",
       "        [4, 4, 4, 4]]])"
      ]
     },
     "execution_count": 18,
     "metadata": {},
     "output_type": "execute_result"
    }
   ],
   "source": [
    "# array cuyos valores son todos el valor indicado como segundo parametro de la funcion.\n",
    "np.full((2,3,4), 1*4)"
   ]
  },
  {
   "cell_type": "code",
   "execution_count": 19,
   "id": "fb2dcf1e-d943-49fa-a197-f3571670e4a0",
   "metadata": {},
   "outputs": [
    {
     "data": {
      "text/plain": [
       "array([[[1.00020707e-311, 1.00023658e-311, 2.05833592e-312,\n",
       "         6.79038654e-313, 2.48273508e-312, 2.35541533e-312,\n",
       "         6.79038654e-313, 2.05833592e-312, 2.35541533e-312],\n",
       "        [2.14321575e-312, 6.79038654e-313, 2.35541533e-312,\n",
       "         6.79038654e-313, 2.35541533e-312, 2.35541533e-312,\n",
       "         6.79038654e-313, 2.29175545e-312, 2.50395503e-312],\n",
       "        [2.29175545e-312, 2.41907520e-312, 2.22809558e-312,\n",
       "         2.12199579e-312, 2.10077583e-312, 2.12199579e-312,\n",
       "         6.79038654e-313, 2.35541533e-312, 2.35541533e-312]],\n",
       "\n",
       "       [[2.44029516e-312, 2.18565567e-312, 2.33419537e-312,\n",
       "         2.35541533e-312, 2.37663529e-312, 2.41907520e-312,\n",
       "         2.31297541e-312, 2.46151512e-312, 2.35541533e-312],\n",
       "        [2.12199579e-312, 6.79038654e-313, 2.05833592e-312,\n",
       "         2.16443571e-312, 2.33419537e-312, 2.22809558e-312,\n",
       "         2.33419537e-312, 2.12199579e-313, 2.37663529e-312],\n",
       "        [2.16443571e-312, 2.29175545e-312, 8.48798317e-313,\n",
       "         1.06099790e-312, 1.08221785e-312, 1.10343781e-312,\n",
       "         9.33678148e-313, 8.91238232e-313, 8.70018275e-313]]])"
      ]
     },
     "execution_count": 19,
     "metadata": {},
     "output_type": "execute_result"
    }
   ],
   "source": [
    "# el resultado de np.empty no es predecible.\n",
    "# inicializa los valores del array con lo que haya en memoria en ese momento.\n",
    "np.empty((2,3,9))"
   ]
  },
  {
   "cell_type": "code",
   "execution_count": 21,
   "id": "fe97cce3-08a9-4187-9ef8-2822a9e8143f",
   "metadata": {},
   "outputs": [
    {
     "data": {
      "text/plain": [
       "array([[1, 2, 3],\n",
       "       [4, 5, 6]])"
      ]
     },
     "execution_count": 21,
     "metadata": {},
     "output_type": "execute_result"
    }
   ],
   "source": [
    "# Incializacion del array utilizando un array de python\n",
    "b = np.array([[1, 2, 3], [4,5,6]])\n",
    "b"
   ]
  },
  {
   "cell_type": "code",
   "execution_count": 22,
   "id": "cec43091-cf27-4943-adc1-0f8bc6a8b7dc",
   "metadata": {},
   "outputs": [
    {
     "data": {
      "text/plain": [
       "(2, 3)"
      ]
     },
     "execution_count": 22,
     "metadata": {},
     "output_type": "execute_result"
    }
   ],
   "source": [
    "b.shape"
   ]
  },
  {
   "cell_type": "code",
   "execution_count": 24,
   "id": "ba2dcff1-83a1-497b-a827-288bf3b810ae",
   "metadata": {},
   "outputs": [
    {
     "name": "stdout",
     "output_type": "stream",
     "text": [
      "[0.         0.66666667 1.33333333 2.         2.66666667 3.33333333\n",
      " 4.         4.66666667 5.33333333 6.        ]\n"
     ]
    }
   ],
   "source": [
    "\n",
    "#creacion de un arreglo utilizando una funcion basada en rangos\n",
    "#(minimo, maximo, numero de elementos del arreglo)\n",
    "print (np.linspace(0,6,10))"
   ]
  },
  {
   "cell_type": "code",
   "execution_count": 26,
   "id": "7f7c8572-ada8-4bd2-9bf2-4e0998638b87",
   "metadata": {},
   "outputs": [
    {
     "data": {
      "text/plain": [
       "array([[0.74086543, 0.5275626 , 0.4108718 , 0.55534725],\n",
       "       [0.68512058, 0.3875063 , 0.81677807, 0.53436713]])"
      ]
     },
     "execution_count": 26,
     "metadata": {},
     "output_type": "execute_result"
    }
   ],
   "source": [
    "#inicializacion del arreglo con valores aleatorios\n",
    "np.random.rand(2,4)"
   ]
  },
  {
   "cell_type": "code",
   "execution_count": 27,
   "id": "d01532b6-9921-40b4-9f66-7adce952a6be",
   "metadata": {},
   "outputs": [
    {
     "data": {
      "text/plain": [
       "array([[-0.9103517 , -1.11484051,  1.3850567 , -0.85125518],\n",
       "       [ 0.63414437,  0.3317189 , -0.05135654,  0.51838571]])"
      ]
     },
     "execution_count": 27,
     "metadata": {},
     "output_type": "execute_result"
    }
   ],
   "source": [
    "#inicializar un arreglo con valores aleatorios conforme a una distribucion normal\n",
    "np.random.randn(2,4)"
   ]
  },
  {
   "cell_type": "code",
   "execution_count": 37,
   "id": "3b41c083-657a-451d-8424-652d6f731c8e",
   "metadata": {},
   "outputs": [
    {
     "data": {
      "image/png": "[encoded data removed]",
      "text/plain": [
       "<Figure size 640x480 with 1 Axes>"
      ]
     },
     "metadata": {},
     "output_type": "display_data"
    }
   ],
   "source": [
    "%matplotlib inline\n",
    "import matplotlib.pyplot as plt\n",
    "\n",
    "c=np.random.randn(1000000)\n",
    "\n",
    "plt.hist(c, bins=200)\n",
    "plt.show()"
   ]
  },
  {
   "cell_type": "code",
   "execution_count": 38,
   "id": "117d06f6-d897-4a52-9f94-8fe6884475a7",
   "metadata": {},
   "outputs": [
    {
     "data": {
      "text/plain": [
       "array([[ 0.,  2.,  4.,  6.,  8.],\n",
       "       [ 1.,  3.,  5.,  7.,  9.],\n",
       "       [ 2.,  4.,  6.,  8., 10.]])"
      ]
     },
     "execution_count": 38,
     "metadata": {},
     "output_type": "execute_result"
    }
   ],
   "source": [
    "#inicializar un arreglo utilizando una funcion personalizada\n",
    "def func(x, y):\n",
    "     return x + 2* y \n",
    "np.fromfunction(func, (3,5))"
   ]
  },
  {
   "cell_type": "markdown",
   "id": "1d21d234-430f-481c-93de-49ba9d179bd6",
   "metadata": {},
   "source": [
    "## acceso a los elementos de un arreglo"
   ]
  },
  {
   "cell_type": "markdown",
   "id": "77a81409-49fb-45a3-a67e-dd906e45a6c3",
   "metadata": {},
   "source": [
    "### arreglo unidimencional"
   ]
  },
  {
   "cell_type": "code",
   "execution_count": 42,
   "id": "ec23d10d-1400-49fb-8bf6-9d19aee1050e",
   "metadata": {},
   "outputs": [
    {
     "name": "stdout",
     "output_type": "stream",
     "text": [
      "Shape: (6,)\n",
      "Array_uni [ 1  3  5  7  9 11]\n"
     ]
    }
   ],
   "source": [
    "# creacio de una array unidimencional\n",
    "array_uni = np.array([1,3,5,7,9,11])\n",
    "print (\"Shape:\", array_uni.shape)\n",
    "print (\"Array_uni\",array_uni)"
   ]
  },
  {
   "cell_type": "code",
   "execution_count": 45,
   "id": "8aeb28bf-bd36-4a24-b303-97b74206996b",
   "metadata": {},
   "outputs": [
    {
     "data": {
      "text/plain": [
       "9"
      ]
     },
     "execution_count": 45,
     "metadata": {},
     "output_type": "execute_result"
    }
   ],
   "source": [
    "# accediendo al quinto elemento del arrglo.\n",
    "array_uni[4]"
   ]
  },
  {
   "cell_type": "code",
   "execution_count": 55,
   "id": "902e1c22-c816-4405-8cd3-b473a600112e",
   "metadata": {},
   "outputs": [
    {
     "data": {
      "text/plain": [
       "array([5, 7])"
      ]
     },
     "execution_count": 55,
     "metadata": {},
     "output_type": "execute_result"
    }
   ],
   "source": [
    "# accediendo altercer y cuarto elemento de array\n",
    "array_uni[2:4]"
   ]
  },
  {
   "cell_type": "code",
   "execution_count": 58,
   "id": "cf34ea7b-478d-4e6f-932d-34e7423f8d5d",
   "metadata": {},
   "outputs": [
    {
     "data": {
      "text/plain": [
       "array([1, 5, 9])"
      ]
     },
     "execution_count": 58,
     "metadata": {},
     "output_type": "execute_result"
    }
   ],
   "source": [
    "# accediendo a los elementos 0,3 y 5 de arreglo.\n",
    "array_uni[0::2]"
   ]
  },
  {
   "cell_type": "markdown",
   "id": "dce4f7fc-3c72-4c7d-a830-5297bdcbc880",
   "metadata": {},
   "source": [
    "## arreglo multidimencional"
   ]
  },
  {
   "cell_type": "code",
   "execution_count": 59,
   "id": "fd4c02ed-9391-4c64-9a63-7fc58990b76f",
   "metadata": {},
   "outputs": [
    {
     "name": "stdout",
     "output_type": "stream",
     "text": [
      "Shape: (2, 4)\n",
      "Array_multi:\n",
      " [[1 2 3 4]\n",
      " [5 6 7 8]]\n"
     ]
    }
   ],
   "source": [
    "# creacion de u arreglo multidimencional\n",
    "array_multi =np.array([[1,2,3,4], [5,6,7,8]])\n",
    "print(\"Shape:\", array_multi.shape)\n",
    "print(\"Array_multi:\\n\", array_multi)"
   ]
  },
  {
   "cell_type": "code",
   "execution_count": null,
   "id": "1ca63259-e9a9-4921-8639-83705502e35a",
   "metadata": {},
   "outputs": [],
   "source": []
  }
 ],
 "metadata": {
  "kernelspec": {
   "display_name": "Python 3 (ipykernel)",
   "language": "python",
   "name": "python3"
  },
  "language_info": {
   "codemirror_mode": {
    "name": "ipython",
    "version": 3
   },
   "file_extension": ".py",
   "mimetype": "text/x-python",
   "name": "python",
   "nbconvert_exporter": "python",
   "pygments_lexer": "ipython3",
   "version": "3.9.18"
  }
 },
 "nbformat": 4,
 "nbformat_minor": 5
}
