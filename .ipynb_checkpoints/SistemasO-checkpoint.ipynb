{
 "cells": [
  {
   "cell_type": "code",
   "execution_count": 14,
   "id": "7d8dc31c-b132-4845-80e0-055738981c49",
   "metadata": {},
   "outputs": [],
   "source": [
    "from pulp import *"
   ]
  },
  {
   "cell_type": "code",
   "execution_count": 15,
   "id": "867da1a8-6825-46fc-b287-09d6b2b857bf",
   "metadata": {},
   "outputs": [],
   "source": [
    "prob = LpProblem(\"Maximizar_Ganancias\",LpMaximize)"
   ]
  },
  {
   "cell_type": "code",
   "execution_count": 16,
   "id": "997db964-783f-496a-a190-c93661e4ca22",
   "metadata": {},
   "outputs": [],
   "source": [
    "x=LpVariable(\"x\",lowBound=-float(\"inf\"))\n",
    "y=LpVariable(\"y\",lowBound=-float(\"inf\"))"
   ]
  },
  {
   "cell_type": "code",
   "execution_count": 17,
   "id": "7259f7f7-5f2b-4e64-9a0f-d4beffeb7b14",
   "metadata": {},
   "outputs": [],
   "source": [
    "prob += 3*x + 2*y"
   ]
  },
  {
   "cell_type": "code",
   "execution_count": 36,
   "id": "379c2fd5-8116-4999-b2a3-f971bffc4de8",
   "metadata": {},
   "outputs": [],
   "source": [
    "prob += x + y <= 5\n",
    "prob += 2*x + y <= 6\n"
   ]
  },
  {
   "cell_type": "raw",
   "id": "dd1aa149-cdef-4348-8116-658fd4da8f6c",
   "metadata": {},
   "source": [
    "prob.solve()"
   ]
  },
  {
   "cell_type": "code",
   "execution_count": 34,
   "id": "813c4aaa-1361-4566-bed4-05bd7da0875e",
   "metadata": {},
   "outputs": [
    {
     "name": "stdout",
     "output_type": "stream",
     "text": [
      "Status: Not Solved\n",
      "x = None\n",
      "y = None\n",
      "ganancias maximas=: None\n"
     ]
    }
   ],
   "source": [
    "print(\"Status:\",LpStatus[prob.status])\n",
    "for v in prob.variables():print(v.name, \"=\",v.varValue)\n",
    "print(\"ganancias maximas=:\",value(prob.objective))"
   ]
  },
  {
   "cell_type": "code",
   "execution_count": null,
   "id": "2d331856-9821-42c1-82da-4ae49fb558ce",
   "metadata": {},
   "outputs": [],
   "source": []
  }
 ],
 "metadata": {
  "kernelspec": {
   "display_name": "Python 3 (ipykernel)",
   "language": "python",
   "name": "python3"
  },
  "language_info": {
   "codemirror_mode": {
    "name": "ipython",
    "version": 3
   },
   "file_extension": ".py",
   "mimetype": "text/x-python",
   "name": "python",
   "nbconvert_exporter": "python",
   "pygments_lexer": "ipython3",
   "version": "3.11.9"
  }
 },
 "nbformat": 4,
 "nbformat_minor": 5
}
